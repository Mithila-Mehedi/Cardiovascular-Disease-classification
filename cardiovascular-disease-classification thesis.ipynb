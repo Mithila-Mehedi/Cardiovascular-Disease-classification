{
 "cells": [
  {
   "cell_type": "code",
   "execution_count": 1,
   "id": "fa08a032",
   "metadata": {
    "_cell_guid": "b1076dfc-b9ad-4769-8c92-a6c4dae69d19",
    "_uuid": "8f2839f25d086af736a60e9eeb907d3b93b6e0e5",
    "execution": {
     "iopub.execute_input": "2024-03-17T05:42:34.543966Z",
     "iopub.status.busy": "2024-03-17T05:42:34.543654Z",
     "iopub.status.idle": "2024-03-17T05:42:35.195249Z",
     "shell.execute_reply": "2024-03-17T05:42:35.194176Z"
    },
    "papermill": {
     "duration": 0.664674,
     "end_time": "2024-03-17T05:42:35.197090",
     "exception": false,
     "start_time": "2024-03-17T05:42:34.532416",
     "status": "completed"
    },
    "tags": []
   },
   "outputs": [
    {
     "name": "stdout",
     "output_type": "stream",
     "text": [
      "/kaggle/input/cardiovascular-disease-dataset/cardio_train.csv\n"
     ]
    }
   ],
   "source": [
    "import numpy as np\n",
    "import pandas as pd \n",
    "import os\n",
    "for dirname, _, filenames in os.walk('/kaggle/input'):\n",
    "    for filename in filenames:\n",
    "        print(os.path.join(dirname, filename))"
   ]
  },
  {
   "cell_type": "code",
   "execution_count": 2,
   "id": "30b2fe2c",
   "metadata": {
    "execution": {
     "iopub.execute_input": "2024-03-17T05:42:35.218488Z",
     "iopub.status.busy": "2024-03-17T05:42:35.218026Z",
     "iopub.status.idle": "2024-03-17T05:42:36.740433Z",
     "shell.execute_reply": "2024-03-17T05:42:36.739555Z"
    },
    "papermill": {
     "duration": 1.535346,
     "end_time": "2024-03-17T05:42:36.742509",
     "exception": false,
     "start_time": "2024-03-17T05:42:35.207163",
     "status": "completed"
    },
    "tags": []
   },
   "outputs": [],
   "source": [
    "import pandas as pd\n",
    "import numpy as np\n",
    "import seaborn as sns\n",
    "import matplotlib.pyplot as plt\n",
    "\n",
    "from sklearn.linear_model import LogisticRegression\n",
    "from sklearn.tree import DecisionTreeClassifier\n",
    "from sklearn.ensemble import RandomForestClassifier, GradientBoostingClassifier, VotingClassifier\n",
    "from sklearn.neighbors import KNeighborsClassifier\n",
    "from sklearn.svm import SVC\n",
    "\n",
    "from sklearn.model_selection import train_test_split\n",
    "from sklearn.metrics import accuracy_score, classification_report, confusion_matrix"
   ]
  },
  {
   "cell_type": "code",
   "execution_count": 3,
   "id": "d751ea6e",
   "metadata": {
    "execution": {
     "iopub.execute_input": "2024-03-17T05:42:36.763610Z",
     "iopub.status.busy": "2024-03-17T05:42:36.763287Z",
     "iopub.status.idle": "2024-03-17T05:42:36.864595Z",
     "shell.execute_reply": "2024-03-17T05:42:36.863781Z"
    },
    "papermill": {
     "duration": 0.114035,
     "end_time": "2024-03-17T05:42:36.866442",
     "exception": false,
     "start_time": "2024-03-17T05:42:36.752407",
     "status": "completed"
    },
    "tags": []
   },
   "outputs": [
    {
     "data": {
      "text/html": [
       "<div>\n",
       "<style scoped>\n",
       "    .dataframe tbody tr th:only-of-type {\n",
       "        vertical-align: middle;\n",
       "    }\n",
       "\n",
       "    .dataframe tbody tr th {\n",
       "        vertical-align: top;\n",
       "    }\n",
       "\n",
       "    .dataframe thead th {\n",
       "        text-align: right;\n",
       "    }\n",
       "</style>\n",
       "<table border=\"1\" class=\"dataframe\">\n",
       "  <thead>\n",
       "    <tr style=\"text-align: right;\">\n",
       "      <th></th>\n",
       "      <th>id</th>\n",
       "      <th>age</th>\n",
       "      <th>gender</th>\n",
       "      <th>height</th>\n",
       "      <th>weight</th>\n",
       "      <th>ap_hi</th>\n",
       "      <th>ap_lo</th>\n",
       "      <th>cholesterol</th>\n",
       "      <th>gluc</th>\n",
       "      <th>smoke</th>\n",
       "      <th>alco</th>\n",
       "      <th>active</th>\n",
       "      <th>cardio</th>\n",
       "    </tr>\n",
       "  </thead>\n",
       "  <tbody>\n",
       "    <tr>\n",
       "      <th>0</th>\n",
       "      <td>0</td>\n",
       "      <td>18393</td>\n",
       "      <td>2</td>\n",
       "      <td>168</td>\n",
       "      <td>62.0</td>\n",
       "      <td>110</td>\n",
       "      <td>80</td>\n",
       "      <td>1</td>\n",
       "      <td>1</td>\n",
       "      <td>0</td>\n",
       "      <td>0</td>\n",
       "      <td>1</td>\n",
       "      <td>0</td>\n",
       "    </tr>\n",
       "    <tr>\n",
       "      <th>1</th>\n",
       "      <td>1</td>\n",
       "      <td>20228</td>\n",
       "      <td>1</td>\n",
       "      <td>156</td>\n",
       "      <td>85.0</td>\n",
       "      <td>140</td>\n",
       "      <td>90</td>\n",
       "      <td>3</td>\n",
       "      <td>1</td>\n",
       "      <td>0</td>\n",
       "      <td>0</td>\n",
       "      <td>1</td>\n",
       "      <td>1</td>\n",
       "    </tr>\n",
       "    <tr>\n",
       "      <th>2</th>\n",
       "      <td>2</td>\n",
       "      <td>18857</td>\n",
       "      <td>1</td>\n",
       "      <td>165</td>\n",
       "      <td>64.0</td>\n",
       "      <td>130</td>\n",
       "      <td>70</td>\n",
       "      <td>3</td>\n",
       "      <td>1</td>\n",
       "      <td>0</td>\n",
       "      <td>0</td>\n",
       "      <td>0</td>\n",
       "      <td>1</td>\n",
       "    </tr>\n",
       "    <tr>\n",
       "      <th>3</th>\n",
       "      <td>3</td>\n",
       "      <td>17623</td>\n",
       "      <td>2</td>\n",
       "      <td>169</td>\n",
       "      <td>82.0</td>\n",
       "      <td>150</td>\n",
       "      <td>100</td>\n",
       "      <td>1</td>\n",
       "      <td>1</td>\n",
       "      <td>0</td>\n",
       "      <td>0</td>\n",
       "      <td>1</td>\n",
       "      <td>1</td>\n",
       "    </tr>\n",
       "    <tr>\n",
       "      <th>4</th>\n",
       "      <td>4</td>\n",
       "      <td>17474</td>\n",
       "      <td>1</td>\n",
       "      <td>156</td>\n",
       "      <td>56.0</td>\n",
       "      <td>100</td>\n",
       "      <td>60</td>\n",
       "      <td>1</td>\n",
       "      <td>1</td>\n",
       "      <td>0</td>\n",
       "      <td>0</td>\n",
       "      <td>0</td>\n",
       "      <td>0</td>\n",
       "    </tr>\n",
       "  </tbody>\n",
       "</table>\n",
       "</div>"
      ],
      "text/plain": [
       "   id    age  gender  height  weight  ap_hi  ap_lo  cholesterol  gluc  smoke  \\\n",
       "0   0  18393       2     168    62.0    110     80            1     1      0   \n",
       "1   1  20228       1     156    85.0    140     90            3     1      0   \n",
       "2   2  18857       1     165    64.0    130     70            3     1      0   \n",
       "3   3  17623       2     169    82.0    150    100            1     1      0   \n",
       "4   4  17474       1     156    56.0    100     60            1     1      0   \n",
       "\n",
       "   alco  active  cardio  \n",
       "0     0       1       0  \n",
       "1     0       1       1  \n",
       "2     0       0       1  \n",
       "3     0       1       1  \n",
       "4     0       0       0  "
      ]
     },
     "execution_count": 3,
     "metadata": {},
     "output_type": "execute_result"
    }
   ],
   "source": [
    "cardio = pd.read_csv(\"/kaggle/input/cardiovascular-disease-dataset/cardio_train.csv\",delimiter = ';')\n",
    "cardio.head()"
   ]
  },
  {
   "cell_type": "code",
   "execution_count": 4,
   "id": "7c5d34ea",
   "metadata": {
    "execution": {
     "iopub.execute_input": "2024-03-17T05:42:36.887639Z",
     "iopub.status.busy": "2024-03-17T05:42:36.887309Z",
     "iopub.status.idle": "2024-03-17T05:42:36.892846Z",
     "shell.execute_reply": "2024-03-17T05:42:36.892056Z"
    },
    "papermill": {
     "duration": 0.017901,
     "end_time": "2024-03-17T05:42:36.894428",
     "exception": false,
     "start_time": "2024-03-17T05:42:36.876527",
     "status": "completed"
    },
    "tags": []
   },
   "outputs": [
    {
     "data": {
      "text/plain": [
       "(70000, 13)"
      ]
     },
     "execution_count": 4,
     "metadata": {},
     "output_type": "execute_result"
    }
   ],
   "source": [
    "cardio.shape"
   ]
  },
  {
   "cell_type": "code",
   "execution_count": 5,
   "id": "a56e6320",
   "metadata": {
    "execution": {
     "iopub.execute_input": "2024-03-17T05:42:36.916318Z",
     "iopub.status.busy": "2024-03-17T05:42:36.915713Z",
     "iopub.status.idle": "2024-03-17T05:42:36.924460Z",
     "shell.execute_reply": "2024-03-17T05:42:36.923647Z"
    },
    "papermill": {
     "duration": 0.021685,
     "end_time": "2024-03-17T05:42:36.926091",
     "exception": false,
     "start_time": "2024-03-17T05:42:36.904406",
     "status": "completed"
    },
    "tags": []
   },
   "outputs": [
    {
     "data": {
      "text/plain": [
       "id             0\n",
       "age            0\n",
       "gender         0\n",
       "height         0\n",
       "weight         0\n",
       "ap_hi          0\n",
       "ap_lo          0\n",
       "cholesterol    0\n",
       "gluc           0\n",
       "smoke          0\n",
       "alco           0\n",
       "active         0\n",
       "cardio         0\n",
       "dtype: int64"
      ]
     },
     "execution_count": 5,
     "metadata": {},
     "output_type": "execute_result"
    }
   ],
   "source": [
    "cardio.isnull().sum()"
   ]
  },
  {
   "cell_type": "code",
   "execution_count": 6,
   "id": "084d2d84",
   "metadata": {
    "execution": {
     "iopub.execute_input": "2024-03-17T05:42:36.948244Z",
     "iopub.status.busy": "2024-03-17T05:42:36.947917Z",
     "iopub.status.idle": "2024-03-17T05:42:36.972617Z",
     "shell.execute_reply": "2024-03-17T05:42:36.971835Z"
    },
    "papermill": {
     "duration": 0.038029,
     "end_time": "2024-03-17T05:42:36.974283",
     "exception": false,
     "start_time": "2024-03-17T05:42:36.936254",
     "status": "completed"
    },
    "tags": []
   },
   "outputs": [
    {
     "data": {
      "text/plain": [
       "0"
      ]
     },
     "execution_count": 6,
     "metadata": {},
     "output_type": "execute_result"
    }
   ],
   "source": [
    "cardio.duplicated().sum()"
   ]
  },
  {
   "cell_type": "code",
   "execution_count": 7,
   "id": "07d58566",
   "metadata": {
    "execution": {
     "iopub.execute_input": "2024-03-17T05:42:36.995737Z",
     "iopub.status.busy": "2024-03-17T05:42:36.995414Z",
     "iopub.status.idle": "2024-03-17T05:42:37.480338Z",
     "shell.execute_reply": "2024-03-17T05:42:37.479307Z"
    },
    "papermill": {
     "duration": 0.497521,
     "end_time": "2024-03-17T05:42:37.482021",
     "exception": false,
     "start_time": "2024-03-17T05:42:36.984500",
     "status": "completed"
    },
    "tags": []
   },
   "outputs": [
    {
     "data": {
      "text/plain": [
       "<Axes: >"
      ]
     },
     "execution_count": 7,
     "metadata": {},
     "output_type": "execute_result"
    },
    {
     "data": {
      "image/png": "[encoded data removed]",
      "text/plain": [
       "<Figure size 640x480 with 1 Axes>"
      ]
     },
     "metadata": {},
     "output_type": "display_data"
    }
   ],
   "source": [
    "cardio[[\"age\",\"height\",\"weight\",\"ap_hi\",\"ap_lo\"]].boxplot()"
   ]
  },
  {
   "cell_type": "code",
   "execution_count": 8,
   "id": "44579b28",
   "metadata": {
    "execution": {
     "iopub.execute_input": "2024-03-17T05:42:37.504086Z",
     "iopub.status.busy": "2024-03-17T05:42:37.503812Z",
     "iopub.status.idle": "2024-03-17T05:42:37.516710Z",
     "shell.execute_reply": "2024-03-17T05:42:37.515962Z"
    },
    "papermill": {
     "duration": 0.025709,
     "end_time": "2024-03-17T05:42:37.518271",
     "exception": false,
     "start_time": "2024-03-17T05:42:37.492562",
     "status": "completed"
    },
    "tags": []
   },
   "outputs": [
    {
     "data": {
      "text/html": [
       "<div>\n",
       "<style scoped>\n",
       "    .dataframe tbody tr th:only-of-type {\n",
       "        vertical-align: middle;\n",
       "    }\n",
       "\n",
       "    .dataframe tbody tr th {\n",
       "        vertical-align: top;\n",
       "    }\n",
       "\n",
       "    .dataframe thead th {\n",
       "        text-align: right;\n",
       "    }\n",
       "</style>\n",
       "<table border=\"1\" class=\"dataframe\">\n",
       "  <thead>\n",
       "    <tr style=\"text-align: right;\">\n",
       "      <th></th>\n",
       "      <th>id</th>\n",
       "      <th>age</th>\n",
       "      <th>gender</th>\n",
       "      <th>height</th>\n",
       "      <th>weight</th>\n",
       "      <th>ap_hi</th>\n",
       "      <th>ap_lo</th>\n",
       "      <th>cholesterol</th>\n",
       "      <th>gluc</th>\n",
       "      <th>smoke</th>\n",
       "      <th>alco</th>\n",
       "      <th>active</th>\n",
       "      <th>cardio</th>\n",
       "    </tr>\n",
       "  </thead>\n",
       "  <tbody>\n",
       "    <tr>\n",
       "      <th>0</th>\n",
       "      <td>0</td>\n",
       "      <td>50.391781</td>\n",
       "      <td>2</td>\n",
       "      <td>168</td>\n",
       "      <td>62.0</td>\n",
       "      <td>110</td>\n",
       "      <td>80</td>\n",
       "      <td>1</td>\n",
       "      <td>1</td>\n",
       "      <td>0</td>\n",
       "      <td>0</td>\n",
       "      <td>1</td>\n",
       "      <td>0</td>\n",
       "    </tr>\n",
       "    <tr>\n",
       "      <th>1</th>\n",
       "      <td>1</td>\n",
       "      <td>55.419178</td>\n",
       "      <td>1</td>\n",
       "      <td>156</td>\n",
       "      <td>85.0</td>\n",
       "      <td>140</td>\n",
       "      <td>90</td>\n",
       "      <td>3</td>\n",
       "      <td>1</td>\n",
       "      <td>0</td>\n",
       "      <td>0</td>\n",
       "      <td>1</td>\n",
       "      <td>1</td>\n",
       "    </tr>\n",
       "    <tr>\n",
       "      <th>2</th>\n",
       "      <td>2</td>\n",
       "      <td>51.663014</td>\n",
       "      <td>1</td>\n",
       "      <td>165</td>\n",
       "      <td>64.0</td>\n",
       "      <td>130</td>\n",
       "      <td>70</td>\n",
       "      <td>3</td>\n",
       "      <td>1</td>\n",
       "      <td>0</td>\n",
       "      <td>0</td>\n",
       "      <td>0</td>\n",
       "      <td>1</td>\n",
       "    </tr>\n",
       "    <tr>\n",
       "      <th>3</th>\n",
       "      <td>3</td>\n",
       "      <td>48.282192</td>\n",
       "      <td>2</td>\n",
       "      <td>169</td>\n",
       "      <td>82.0</td>\n",
       "      <td>150</td>\n",
       "      <td>100</td>\n",
       "      <td>1</td>\n",
       "      <td>1</td>\n",
       "      <td>0</td>\n",
       "      <td>0</td>\n",
       "      <td>1</td>\n",
       "      <td>1</td>\n",
       "    </tr>\n",
       "    <tr>\n",
       "      <th>4</th>\n",
       "      <td>4</td>\n",
       "      <td>47.873973</td>\n",
       "      <td>1</td>\n",
       "      <td>156</td>\n",
       "      <td>56.0</td>\n",
       "      <td>100</td>\n",
       "      <td>60</td>\n",
       "      <td>1</td>\n",
       "      <td>1</td>\n",
       "      <td>0</td>\n",
       "      <td>0</td>\n",
       "      <td>0</td>\n",
       "      <td>0</td>\n",
       "    </tr>\n",
       "  </tbody>\n",
       "</table>\n",
       "</div>"
      ],
      "text/plain": [
       "   id        age  gender  height  weight  ap_hi  ap_lo  cholesterol  gluc  \\\n",
       "0   0  50.391781       2     168    62.0    110     80            1     1   \n",
       "1   1  55.419178       1     156    85.0    140     90            3     1   \n",
       "2   2  51.663014       1     165    64.0    130     70            3     1   \n",
       "3   3  48.282192       2     169    82.0    150    100            1     1   \n",
       "4   4  47.873973       1     156    56.0    100     60            1     1   \n",
       "\n",
       "   smoke  alco  active  cardio  \n",
       "0      0     0       1       0  \n",
       "1      0     0       1       1  \n",
       "2      0     0       0       1  \n",
       "3      0     0       1       1  \n",
       "4      0     0       0       0  "
      ]
     },
     "execution_count": 8,
     "metadata": {},
     "output_type": "execute_result"
    }
   ],
   "source": [
    "#convert ages from days to years\n",
    "cardio[\"age\"]=(cardio[\"age\"]/365).values.astype(float)\n",
    "cardio.head()"
   ]
  },
  {
   "cell_type": "markdown",
   "id": "3858117c",
   "metadata": {
    "papermill": {
     "duration": 0.01054,
     "end_time": "2024-03-17T05:42:37.540051",
     "exception": false,
     "start_time": "2024-03-17T05:42:37.529511",
     "status": "completed"
    },
    "tags": []
   },
   "source": [
    "Feature Reduction"
   ]
  },
  {
   "cell_type": "code",
   "execution_count": 9,
   "id": "c265ffa7",
   "metadata": {
    "execution": {
     "iopub.execute_input": "2024-03-17T05:42:37.562085Z",
     "iopub.status.busy": "2024-03-17T05:42:37.561763Z",
     "iopub.status.idle": "2024-03-17T05:42:37.574332Z",
     "shell.execute_reply": "2024-03-17T05:42:37.573589Z"
    },
    "papermill": {
     "duration": 0.0254,
     "end_time": "2024-03-17T05:42:37.575835",
     "exception": false,
     "start_time": "2024-03-17T05:42:37.550435",
     "status": "completed"
    },
    "tags": []
   },
   "outputs": [
    {
     "data": {
      "text/html": [
       "<div>\n",
       "<style scoped>\n",
       "    .dataframe tbody tr th:only-of-type {\n",
       "        vertical-align: middle;\n",
       "    }\n",
       "\n",
       "    .dataframe tbody tr th {\n",
       "        vertical-align: top;\n",
       "    }\n",
       "\n",
       "    .dataframe thead th {\n",
       "        text-align: right;\n",
       "    }\n",
       "</style>\n",
       "<table border=\"1\" class=\"dataframe\">\n",
       "  <thead>\n",
       "    <tr style=\"text-align: right;\">\n",
       "      <th></th>\n",
       "      <th>id</th>\n",
       "      <th>age</th>\n",
       "      <th>gender</th>\n",
       "      <th>height</th>\n",
       "      <th>weight</th>\n",
       "      <th>ap_hi</th>\n",
       "      <th>ap_lo</th>\n",
       "      <th>cholesterol</th>\n",
       "      <th>gluc</th>\n",
       "      <th>smoke</th>\n",
       "      <th>alco</th>\n",
       "      <th>active</th>\n",
       "      <th>cardio</th>\n",
       "    </tr>\n",
       "  </thead>\n",
       "  <tbody>\n",
       "    <tr>\n",
       "      <th>0</th>\n",
       "      <td>0</td>\n",
       "      <td>50.391781</td>\n",
       "      <td>2</td>\n",
       "      <td>1.68</td>\n",
       "      <td>62.0</td>\n",
       "      <td>110</td>\n",
       "      <td>80</td>\n",
       "      <td>1</td>\n",
       "      <td>1</td>\n",
       "      <td>0</td>\n",
       "      <td>0</td>\n",
       "      <td>1</td>\n",
       "      <td>0</td>\n",
       "    </tr>\n",
       "    <tr>\n",
       "      <th>1</th>\n",
       "      <td>1</td>\n",
       "      <td>55.419178</td>\n",
       "      <td>1</td>\n",
       "      <td>1.56</td>\n",
       "      <td>85.0</td>\n",
       "      <td>140</td>\n",
       "      <td>90</td>\n",
       "      <td>3</td>\n",
       "      <td>1</td>\n",
       "      <td>0</td>\n",
       "      <td>0</td>\n",
       "      <td>1</td>\n",
       "      <td>1</td>\n",
       "    </tr>\n",
       "    <tr>\n",
       "      <th>2</th>\n",
       "      <td>2</td>\n",
       "      <td>51.663014</td>\n",
       "      <td>1</td>\n",
       "      <td>1.65</td>\n",
       "      <td>64.0</td>\n",
       "      <td>130</td>\n",
       "      <td>70</td>\n",
       "      <td>3</td>\n",
       "      <td>1</td>\n",
       "      <td>0</td>\n",
       "      <td>0</td>\n",
       "      <td>0</td>\n",
       "      <td>1</td>\n",
       "    </tr>\n",
       "    <tr>\n",
       "      <th>3</th>\n",
       "      <td>3</td>\n",
       "      <td>48.282192</td>\n",
       "      <td>2</td>\n",
       "      <td>1.69</td>\n",
       "      <td>82.0</td>\n",
       "      <td>150</td>\n",
       "      <td>100</td>\n",
       "      <td>1</td>\n",
       "      <td>1</td>\n",
       "      <td>0</td>\n",
       "      <td>0</td>\n",
       "      <td>1</td>\n",
       "      <td>1</td>\n",
       "    </tr>\n",
       "    <tr>\n",
       "      <th>4</th>\n",
       "      <td>4</td>\n",
       "      <td>47.873973</td>\n",
       "      <td>1</td>\n",
       "      <td>1.56</td>\n",
       "      <td>56.0</td>\n",
       "      <td>100</td>\n",
       "      <td>60</td>\n",
       "      <td>1</td>\n",
       "      <td>1</td>\n",
       "      <td>0</td>\n",
       "      <td>0</td>\n",
       "      <td>0</td>\n",
       "      <td>0</td>\n",
       "    </tr>\n",
       "  </tbody>\n",
       "</table>\n",
       "</div>"
      ],
      "text/plain": [
       "   id        age  gender  height  weight  ap_hi  ap_lo  cholesterol  gluc  \\\n",
       "0   0  50.391781       2    1.68    62.0    110     80            1     1   \n",
       "1   1  55.419178       1    1.56    85.0    140     90            3     1   \n",
       "2   2  51.663014       1    1.65    64.0    130     70            3     1   \n",
       "3   3  48.282192       2    1.69    82.0    150    100            1     1   \n",
       "4   4  47.873973       1    1.56    56.0    100     60            1     1   \n",
       "\n",
       "   smoke  alco  active  cardio  \n",
       "0      0     0       1       0  \n",
       "1      0     0       1       1  \n",
       "2      0     0       0       1  \n",
       "3      0     0       1       1  \n",
       "4      0     0       0       0  "
      ]
     },
     "execution_count": 9,
     "metadata": {},
     "output_type": "execute_result"
    }
   ],
   "source": [
    "#feature reduction: insted of age and height we can put BMI value\n",
    "#for BMI height--> must meter and weight-->Kg\n",
    "\n",
    "#convert height to meters\n",
    "cardio[\"height\"]=(cardio[\"height\"]/100)\n",
    "cardio.head()"
   ]
  },
  {
   "cell_type": "code",
   "execution_count": 10,
   "id": "a8d33e71",
   "metadata": {
    "execution": {
     "iopub.execute_input": "2024-03-17T05:42:37.598349Z",
     "iopub.status.busy": "2024-03-17T05:42:37.598051Z",
     "iopub.status.idle": "2024-03-17T05:42:37.610925Z",
     "shell.execute_reply": "2024-03-17T05:42:37.610374Z"
    },
    "papermill": {
     "duration": 0.025843,
     "end_time": "2024-03-17T05:42:37.612366",
     "exception": false,
     "start_time": "2024-03-17T05:42:37.586523",
     "status": "completed"
    },
    "tags": []
   },
   "outputs": [
    {
     "data": {
      "text/html": [
       "<div>\n",
       "<style scoped>\n",
       "    .dataframe tbody tr th:only-of-type {\n",
       "        vertical-align: middle;\n",
       "    }\n",
       "\n",
       "    .dataframe tbody tr th {\n",
       "        vertical-align: top;\n",
       "    }\n",
       "\n",
       "    .dataframe thead th {\n",
       "        text-align: right;\n",
       "    }\n",
       "</style>\n",
       "<table border=\"1\" class=\"dataframe\">\n",
       "  <thead>\n",
       "    <tr style=\"text-align: right;\">\n",
       "      <th></th>\n",
       "      <th>id</th>\n",
       "      <th>age</th>\n",
       "      <th>gender</th>\n",
       "      <th>height</th>\n",
       "      <th>weight</th>\n",
       "      <th>ap_hi</th>\n",
       "      <th>ap_lo</th>\n",
       "      <th>cholesterol</th>\n",
       "      <th>gluc</th>\n",
       "      <th>smoke</th>\n",
       "      <th>alco</th>\n",
       "      <th>active</th>\n",
       "      <th>cardio</th>\n",
       "      <th>bmi</th>\n",
       "    </tr>\n",
       "  </thead>\n",
       "  <tbody>\n",
       "    <tr>\n",
       "      <th>0</th>\n",
       "      <td>0</td>\n",
       "      <td>50.391781</td>\n",
       "      <td>2</td>\n",
       "      <td>1.68</td>\n",
       "      <td>62.0</td>\n",
       "      <td>110</td>\n",
       "      <td>80</td>\n",
       "      <td>1</td>\n",
       "      <td>1</td>\n",
       "      <td>0</td>\n",
       "      <td>0</td>\n",
       "      <td>1</td>\n",
       "      <td>0</td>\n",
       "      <td>21.967120</td>\n",
       "    </tr>\n",
       "    <tr>\n",
       "      <th>1</th>\n",
       "      <td>1</td>\n",
       "      <td>55.419178</td>\n",
       "      <td>1</td>\n",
       "      <td>1.56</td>\n",
       "      <td>85.0</td>\n",
       "      <td>140</td>\n",
       "      <td>90</td>\n",
       "      <td>3</td>\n",
       "      <td>1</td>\n",
       "      <td>0</td>\n",
       "      <td>0</td>\n",
       "      <td>1</td>\n",
       "      <td>1</td>\n",
       "      <td>34.927679</td>\n",
       "    </tr>\n",
       "    <tr>\n",
       "      <th>2</th>\n",
       "      <td>2</td>\n",
       "      <td>51.663014</td>\n",
       "      <td>1</td>\n",
       "      <td>1.65</td>\n",
       "      <td>64.0</td>\n",
       "      <td>130</td>\n",
       "      <td>70</td>\n",
       "      <td>3</td>\n",
       "      <td>1</td>\n",
       "      <td>0</td>\n",
       "      <td>0</td>\n",
       "      <td>0</td>\n",
       "      <td>1</td>\n",
       "      <td>23.507805</td>\n",
       "    </tr>\n",
       "    <tr>\n",
       "      <th>3</th>\n",
       "      <td>3</td>\n",
       "      <td>48.282192</td>\n",
       "      <td>2</td>\n",
       "      <td>1.69</td>\n",
       "      <td>82.0</td>\n",
       "      <td>150</td>\n",
       "      <td>100</td>\n",
       "      <td>1</td>\n",
       "      <td>1</td>\n",
       "      <td>0</td>\n",
       "      <td>0</td>\n",
       "      <td>1</td>\n",
       "      <td>1</td>\n",
       "      <td>28.710479</td>\n",
       "    </tr>\n",
       "    <tr>\n",
       "      <th>4</th>\n",
       "      <td>4</td>\n",
       "      <td>47.873973</td>\n",
       "      <td>1</td>\n",
       "      <td>1.56</td>\n",
       "      <td>56.0</td>\n",
       "      <td>100</td>\n",
       "      <td>60</td>\n",
       "      <td>1</td>\n",
       "      <td>1</td>\n",
       "      <td>0</td>\n",
       "      <td>0</td>\n",
       "      <td>0</td>\n",
       "      <td>0</td>\n",
       "      <td>23.011177</td>\n",
       "    </tr>\n",
       "  </tbody>\n",
       "</table>\n",
       "</div>"
      ],
      "text/plain": [
       "   id        age  gender  height  weight  ap_hi  ap_lo  cholesterol  gluc  \\\n",
       "0   0  50.391781       2    1.68    62.0    110     80            1     1   \n",
       "1   1  55.419178       1    1.56    85.0    140     90            3     1   \n",
       "2   2  51.663014       1    1.65    64.0    130     70            3     1   \n",
       "3   3  48.282192       2    1.69    82.0    150    100            1     1   \n",
       "4   4  47.873973       1    1.56    56.0    100     60            1     1   \n",
       "\n",
       "   smoke  alco  active  cardio        bmi  \n",
       "0      0     0       1       0  21.967120  \n",
       "1      0     0       1       1  34.927679  \n",
       "2      0     0       0       1  23.507805  \n",
       "3      0     0       1       1  28.710479  \n",
       "4      0     0       0       0  23.011177  "
      ]
     },
     "execution_count": 10,
     "metadata": {},
     "output_type": "execute_result"
    }
   ],
   "source": [
    "#add BMI column\n",
    "cardio[\"bmi\"]=cardio[\"weight\"]/((cardio[\"height\"])**2)\n",
    "cardio.head()"
   ]
  },
  {
   "cell_type": "code",
   "execution_count": 11,
   "id": "744ecad6",
   "metadata": {
    "execution": {
     "iopub.execute_input": "2024-03-17T05:42:37.674866Z",
     "iopub.status.busy": "2024-03-17T05:42:37.673984Z",
     "iopub.status.idle": "2024-03-17T05:42:37.688330Z",
     "shell.execute_reply": "2024-03-17T05:42:37.687472Z"
    },
    "papermill": {
     "duration": 0.027952,
     "end_time": "2024-03-17T05:42:37.690080",
     "exception": false,
     "start_time": "2024-03-17T05:42:37.662128",
     "status": "completed"
    },
    "tags": []
   },
   "outputs": [
    {
     "data": {
      "text/html": [
       "<div>\n",
       "<style scoped>\n",
       "    .dataframe tbody tr th:only-of-type {\n",
       "        vertical-align: middle;\n",
       "    }\n",
       "\n",
       "    .dataframe tbody tr th {\n",
       "        vertical-align: top;\n",
       "    }\n",
       "\n",
       "    .dataframe thead th {\n",
       "        text-align: right;\n",
       "    }\n",
       "</style>\n",
       "<table border=\"1\" class=\"dataframe\">\n",
       "  <thead>\n",
       "    <tr style=\"text-align: right;\">\n",
       "      <th></th>\n",
       "      <th>age</th>\n",
       "      <th>gender</th>\n",
       "      <th>ap_hi</th>\n",
       "      <th>ap_lo</th>\n",
       "      <th>cholesterol</th>\n",
       "      <th>gluc</th>\n",
       "      <th>smoke</th>\n",
       "      <th>alco</th>\n",
       "      <th>active</th>\n",
       "      <th>cardio</th>\n",
       "      <th>bmi</th>\n",
       "    </tr>\n",
       "  </thead>\n",
       "  <tbody>\n",
       "    <tr>\n",
       "      <th>0</th>\n",
       "      <td>50.391781</td>\n",
       "      <td>2</td>\n",
       "      <td>110</td>\n",
       "      <td>80</td>\n",
       "      <td>1</td>\n",
       "      <td>1</td>\n",
       "      <td>0</td>\n",
       "      <td>0</td>\n",
       "      <td>1</td>\n",
       "      <td>0</td>\n",
       "      <td>21.967120</td>\n",
       "    </tr>\n",
       "    <tr>\n",
       "      <th>1</th>\n",
       "      <td>55.419178</td>\n",
       "      <td>1</td>\n",
       "      <td>140</td>\n",
       "      <td>90</td>\n",
       "      <td>3</td>\n",
       "      <td>1</td>\n",
       "      <td>0</td>\n",
       "      <td>0</td>\n",
       "      <td>1</td>\n",
       "      <td>1</td>\n",
       "      <td>34.927679</td>\n",
       "    </tr>\n",
       "    <tr>\n",
       "      <th>2</th>\n",
       "      <td>51.663014</td>\n",
       "      <td>1</td>\n",
       "      <td>130</td>\n",
       "      <td>70</td>\n",
       "      <td>3</td>\n",
       "      <td>1</td>\n",
       "      <td>0</td>\n",
       "      <td>0</td>\n",
       "      <td>0</td>\n",
       "      <td>1</td>\n",
       "      <td>23.507805</td>\n",
       "    </tr>\n",
       "    <tr>\n",
       "      <th>3</th>\n",
       "      <td>48.282192</td>\n",
       "      <td>2</td>\n",
       "      <td>150</td>\n",
       "      <td>100</td>\n",
       "      <td>1</td>\n",
       "      <td>1</td>\n",
       "      <td>0</td>\n",
       "      <td>0</td>\n",
       "      <td>1</td>\n",
       "      <td>1</td>\n",
       "      <td>28.710479</td>\n",
       "    </tr>\n",
       "    <tr>\n",
       "      <th>4</th>\n",
       "      <td>47.873973</td>\n",
       "      <td>1</td>\n",
       "      <td>100</td>\n",
       "      <td>60</td>\n",
       "      <td>1</td>\n",
       "      <td>1</td>\n",
       "      <td>0</td>\n",
       "      <td>0</td>\n",
       "      <td>0</td>\n",
       "      <td>0</td>\n",
       "      <td>23.011177</td>\n",
       "    </tr>\n",
       "  </tbody>\n",
       "</table>\n",
       "</div>"
      ],
      "text/plain": [
       "         age  gender  ap_hi  ap_lo  cholesterol  gluc  smoke  alco  active  \\\n",
       "0  50.391781       2    110     80            1     1      0     0       1   \n",
       "1  55.419178       1    140     90            3     1      0     0       1   \n",
       "2  51.663014       1    130     70            3     1      0     0       0   \n",
       "3  48.282192       2    150    100            1     1      0     0       1   \n",
       "4  47.873973       1    100     60            1     1      0     0       0   \n",
       "\n",
       "   cardio        bmi  \n",
       "0       0  21.967120  \n",
       "1       1  34.927679  \n",
       "2       1  23.507805  \n",
       "3       1  28.710479  \n",
       "4       0  23.011177  "
      ]
     },
     "execution_count": 11,
     "metadata": {},
     "output_type": "execute_result"
    }
   ],
   "source": [
    "cardio.drop([\"id\",\"height\",\"weight\"],axis=1,inplace=True)\n",
    "cardio.head()"
   ]
  },
  {
   "cell_type": "code",
   "execution_count": 12,
   "id": "ac2e7fb8",
   "metadata": {
    "execution": {
     "iopub.execute_input": "2024-03-17T05:42:37.714561Z",
     "iopub.status.busy": "2024-03-17T05:42:37.713621Z",
     "iopub.status.idle": "2024-03-17T05:42:38.114666Z",
     "shell.execute_reply": "2024-03-17T05:42:38.113865Z"
    },
    "papermill": {
     "duration": 0.414635,
     "end_time": "2024-03-17T05:42:38.116331",
     "exception": false,
     "start_time": "2024-03-17T05:42:37.701696",
     "status": "completed"
    },
    "tags": []
   },
   "outputs": [
    {
     "data": {
      "text/plain": [
       "<Axes: >"
      ]
     },
     "execution_count": 12,
     "metadata": {},
     "output_type": "execute_result"
    },
    {
     "data": {
      "image/png": "[encoded data removed]",
      "text/plain": [
       "<Figure size 640x480 with 1 Axes>"
      ]
     },
     "metadata": {},
     "output_type": "display_data"
    }
   ],
   "source": [
    "#plot numerical vlaues\n",
    "numeric_data=cardio[[\"age\",\"bmi\",\"ap_hi\",\"ap_lo\"]]\n",
    "numeric_data.boxplot()"
   ]
  },
  {
   "cell_type": "markdown",
   "id": "bd37b29e",
   "metadata": {
    "papermill": {
     "duration": 0.012638,
     "end_time": "2024-03-17T05:42:38.141002",
     "exception": false,
     "start_time": "2024-03-17T05:42:38.128364",
     "status": "completed"
    },
    "tags": []
   },
   "source": [
    "Outlier Cleaning"
   ]
  },
  {
   "cell_type": "code",
   "execution_count": 13,
   "id": "a8383d0d",
   "metadata": {
    "execution": {
     "iopub.execute_input": "2024-03-17T05:42:38.166186Z",
     "iopub.status.busy": "2024-03-17T05:42:38.165610Z",
     "iopub.status.idle": "2024-03-17T05:42:38.184774Z",
     "shell.execute_reply": "2024-03-17T05:42:38.183980Z"
    },
    "papermill": {
     "duration": 0.034248,
     "end_time": "2024-03-17T05:42:38.186955",
     "exception": false,
     "start_time": "2024-03-17T05:42:38.152707",
     "status": "completed"
    },
    "tags": []
   },
   "outputs": [
    {
     "data": {
      "text/plain": [
       "age      10.035616\n",
       "bmi       6.347107\n",
       "ap_hi    20.000000\n",
       "ap_lo    10.000000\n",
       "dtype: float64"
      ]
     },
     "execution_count": 13,
     "metadata": {},
     "output_type": "execute_result"
    }
   ],
   "source": [
    "#there are more outliers in the ap_hi ans ap_lo columns\n",
    "#we have to remove outliers\n",
    "#we use 1.5 IQR method to data cleaning\n",
    "\n",
    "Q1=numeric_data.quantile(0.25)\n",
    "Q3=numeric_data.quantile(0.75)\n",
    "\n",
    "IQR=Q3-Q1\n",
    "IQR"
   ]
  },
  {
   "cell_type": "code",
   "execution_count": 14,
   "id": "137629e0",
   "metadata": {
    "execution": {
     "iopub.execute_input": "2024-03-17T05:42:38.213773Z",
     "iopub.status.busy": "2024-03-17T05:42:38.213161Z",
     "iopub.status.idle": "2024-03-17T05:42:38.226856Z",
     "shell.execute_reply": "2024-03-17T05:42:38.226005Z"
    },
    "papermill": {
     "duration": 0.028956,
     "end_time": "2024-03-17T05:42:38.228551",
     "exception": false,
     "start_time": "2024-03-17T05:42:38.199595",
     "status": "completed"
    },
    "tags": []
   },
   "outputs": [
    {
     "data": {
      "text/html": [
       "<div>\n",
       "<style scoped>\n",
       "    .dataframe tbody tr th:only-of-type {\n",
       "        vertical-align: middle;\n",
       "    }\n",
       "\n",
       "    .dataframe tbody tr th {\n",
       "        vertical-align: top;\n",
       "    }\n",
       "\n",
       "    .dataframe thead th {\n",
       "        text-align: right;\n",
       "    }\n",
       "</style>\n",
       "<table border=\"1\" class=\"dataframe\">\n",
       "  <thead>\n",
       "    <tr style=\"text-align: right;\">\n",
       "      <th></th>\n",
       "      <th>age</th>\n",
       "      <th>bmi</th>\n",
       "      <th>ap_hi</th>\n",
       "      <th>ap_lo</th>\n",
       "    </tr>\n",
       "  </thead>\n",
       "  <tbody>\n",
       "    <tr>\n",
       "      <th>0</th>\n",
       "      <td>False</td>\n",
       "      <td>False</td>\n",
       "      <td>False</td>\n",
       "      <td>False</td>\n",
       "    </tr>\n",
       "    <tr>\n",
       "      <th>1</th>\n",
       "      <td>False</td>\n",
       "      <td>False</td>\n",
       "      <td>False</td>\n",
       "      <td>False</td>\n",
       "    </tr>\n",
       "    <tr>\n",
       "      <th>2</th>\n",
       "      <td>False</td>\n",
       "      <td>False</td>\n",
       "      <td>False</td>\n",
       "      <td>False</td>\n",
       "    </tr>\n",
       "    <tr>\n",
       "      <th>3</th>\n",
       "      <td>False</td>\n",
       "      <td>False</td>\n",
       "      <td>False</td>\n",
       "      <td>False</td>\n",
       "    </tr>\n",
       "    <tr>\n",
       "      <th>4</th>\n",
       "      <td>False</td>\n",
       "      <td>False</td>\n",
       "      <td>False</td>\n",
       "      <td>True</td>\n",
       "    </tr>\n",
       "    <tr>\n",
       "      <th>...</th>\n",
       "      <td>...</td>\n",
       "      <td>...</td>\n",
       "      <td>...</td>\n",
       "      <td>...</td>\n",
       "    </tr>\n",
       "    <tr>\n",
       "      <th>69995</th>\n",
       "      <td>False</td>\n",
       "      <td>False</td>\n",
       "      <td>False</td>\n",
       "      <td>False</td>\n",
       "    </tr>\n",
       "    <tr>\n",
       "      <th>69996</th>\n",
       "      <td>False</td>\n",
       "      <td>True</td>\n",
       "      <td>False</td>\n",
       "      <td>False</td>\n",
       "    </tr>\n",
       "    <tr>\n",
       "      <th>69997</th>\n",
       "      <td>False</td>\n",
       "      <td>False</td>\n",
       "      <td>True</td>\n",
       "      <td>False</td>\n",
       "    </tr>\n",
       "    <tr>\n",
       "      <th>69998</th>\n",
       "      <td>False</td>\n",
       "      <td>False</td>\n",
       "      <td>False</td>\n",
       "      <td>False</td>\n",
       "    </tr>\n",
       "    <tr>\n",
       "      <th>69999</th>\n",
       "      <td>False</td>\n",
       "      <td>False</td>\n",
       "      <td>False</td>\n",
       "      <td>False</td>\n",
       "    </tr>\n",
       "  </tbody>\n",
       "</table>\n",
       "<p>70000 rows × 4 columns</p>\n",
       "</div>"
      ],
      "text/plain": [
       "         age    bmi  ap_hi  ap_lo\n",
       "0      False  False  False  False\n",
       "1      False  False  False  False\n",
       "2      False  False  False  False\n",
       "3      False  False  False  False\n",
       "4      False  False  False   True\n",
       "...      ...    ...    ...    ...\n",
       "69995  False  False  False  False\n",
       "69996  False   True  False  False\n",
       "69997  False  False   True  False\n",
       "69998  False  False  False  False\n",
       "69999  False  False  False  False\n",
       "\n",
       "[70000 rows x 4 columns]"
      ]
     },
     "execution_count": 14,
     "metadata": {},
     "output_type": "execute_result"
    }
   ],
   "source": [
    "((numeric_data<(Q1-1.5*IQR)) | (numeric_data>(Q3+1.5*IQR)))\n",
    "#True means outliers"
   ]
  },
  {
   "cell_type": "code",
   "execution_count": 15,
   "id": "b2910503",
   "metadata": {
    "execution": {
     "iopub.execute_input": "2024-03-17T05:42:38.255321Z",
     "iopub.status.busy": "2024-03-17T05:42:38.254973Z",
     "iopub.status.idle": "2024-03-17T05:42:38.261812Z",
     "shell.execute_reply": "2024-03-17T05:42:38.261228Z"
    },
    "papermill": {
     "duration": 0.022298,
     "end_time": "2024-03-17T05:42:38.263506",
     "exception": false,
     "start_time": "2024-03-17T05:42:38.241208",
     "status": "completed"
    },
    "tags": []
   },
   "outputs": [],
   "source": [
    "#get outliers rows\n",
    "out_row=((numeric_data<(Q1-1.5*IQR)) | (numeric_data>(Q3+1.5*IQR))).any(axis=1)\n"
   ]
  },
  {
   "cell_type": "code",
   "execution_count": 16,
   "id": "2ea67b8d",
   "metadata": {
    "execution": {
     "iopub.execute_input": "2024-03-17T05:42:38.289334Z",
     "iopub.status.busy": "2024-03-17T05:42:38.288815Z",
     "iopub.status.idle": "2024-03-17T05:42:38.292294Z",
     "shell.execute_reply": "2024-03-17T05:42:38.291612Z"
    },
    "papermill": {
     "duration": 0.018036,
     "end_time": "2024-03-17T05:42:38.293848",
     "exception": false,
     "start_time": "2024-03-17T05:42:38.275812",
     "status": "completed"
    },
    "tags": []
   },
   "outputs": [],
   "source": [
    "#remove outliers from original dataset\n",
    "#cardio=cardio[~out_row]"
   ]
  },
  {
   "cell_type": "code",
   "execution_count": 17,
   "id": "997f7274",
   "metadata": {
    "execution": {
     "iopub.execute_input": "2024-03-17T05:42:38.319662Z",
     "iopub.status.busy": "2024-03-17T05:42:38.319161Z",
     "iopub.status.idle": "2024-03-17T05:42:38.329833Z",
     "shell.execute_reply": "2024-03-17T05:42:38.329033Z"
    },
    "papermill": {
     "duration": 0.025424,
     "end_time": "2024-03-17T05:42:38.331455",
     "exception": false,
     "start_time": "2024-03-17T05:42:38.306031",
     "status": "completed"
    },
    "tags": []
   },
   "outputs": [
    {
     "data": {
      "text/html": [
       "<div>\n",
       "<style scoped>\n",
       "    .dataframe tbody tr th:only-of-type {\n",
       "        vertical-align: middle;\n",
       "    }\n",
       "\n",
       "    .dataframe tbody tr th {\n",
       "        vertical-align: top;\n",
       "    }\n",
       "\n",
       "    .dataframe thead th {\n",
       "        text-align: right;\n",
       "    }\n",
       "</style>\n",
       "<table border=\"1\" class=\"dataframe\">\n",
       "  <thead>\n",
       "    <tr style=\"text-align: right;\">\n",
       "      <th></th>\n",
       "      <th>age</th>\n",
       "      <th>gender</th>\n",
       "      <th>ap_hi</th>\n",
       "      <th>ap_lo</th>\n",
       "      <th>cholesterol</th>\n",
       "      <th>gluc</th>\n",
       "      <th>smoke</th>\n",
       "      <th>alco</th>\n",
       "      <th>active</th>\n",
       "      <th>cardio</th>\n",
       "      <th>bmi</th>\n",
       "    </tr>\n",
       "  </thead>\n",
       "  <tbody>\n",
       "    <tr>\n",
       "      <th>0</th>\n",
       "      <td>50.391781</td>\n",
       "      <td>2</td>\n",
       "      <td>110</td>\n",
       "      <td>80</td>\n",
       "      <td>1</td>\n",
       "      <td>1</td>\n",
       "      <td>0</td>\n",
       "      <td>0</td>\n",
       "      <td>1</td>\n",
       "      <td>0</td>\n",
       "      <td>21.967120</td>\n",
       "    </tr>\n",
       "    <tr>\n",
       "      <th>1</th>\n",
       "      <td>55.419178</td>\n",
       "      <td>1</td>\n",
       "      <td>140</td>\n",
       "      <td>90</td>\n",
       "      <td>3</td>\n",
       "      <td>1</td>\n",
       "      <td>0</td>\n",
       "      <td>0</td>\n",
       "      <td>1</td>\n",
       "      <td>1</td>\n",
       "      <td>34.927679</td>\n",
       "    </tr>\n",
       "    <tr>\n",
       "      <th>2</th>\n",
       "      <td>51.663014</td>\n",
       "      <td>1</td>\n",
       "      <td>130</td>\n",
       "      <td>70</td>\n",
       "      <td>3</td>\n",
       "      <td>1</td>\n",
       "      <td>0</td>\n",
       "      <td>0</td>\n",
       "      <td>0</td>\n",
       "      <td>1</td>\n",
       "      <td>23.507805</td>\n",
       "    </tr>\n",
       "    <tr>\n",
       "      <th>3</th>\n",
       "      <td>48.282192</td>\n",
       "      <td>2</td>\n",
       "      <td>150</td>\n",
       "      <td>100</td>\n",
       "      <td>1</td>\n",
       "      <td>1</td>\n",
       "      <td>0</td>\n",
       "      <td>0</td>\n",
       "      <td>1</td>\n",
       "      <td>1</td>\n",
       "      <td>28.710479</td>\n",
       "    </tr>\n",
       "    <tr>\n",
       "      <th>4</th>\n",
       "      <td>47.873973</td>\n",
       "      <td>1</td>\n",
       "      <td>100</td>\n",
       "      <td>60</td>\n",
       "      <td>1</td>\n",
       "      <td>1</td>\n",
       "      <td>0</td>\n",
       "      <td>0</td>\n",
       "      <td>0</td>\n",
       "      <td>0</td>\n",
       "      <td>23.011177</td>\n",
       "    </tr>\n",
       "  </tbody>\n",
       "</table>\n",
       "</div>"
      ],
      "text/plain": [
       "         age  gender  ap_hi  ap_lo  cholesterol  gluc  smoke  alco  active  \\\n",
       "0  50.391781       2    110     80            1     1      0     0       1   \n",
       "1  55.419178       1    140     90            3     1      0     0       1   \n",
       "2  51.663014       1    130     70            3     1      0     0       0   \n",
       "3  48.282192       2    150    100            1     1      0     0       1   \n",
       "4  47.873973       1    100     60            1     1      0     0       0   \n",
       "\n",
       "   cardio        bmi  \n",
       "0       0  21.967120  \n",
       "1       1  34.927679  \n",
       "2       1  23.507805  \n",
       "3       1  28.710479  \n",
       "4       0  23.011177  "
      ]
     },
     "execution_count": 17,
     "metadata": {},
     "output_type": "execute_result"
    }
   ],
   "source": [
    "#outlier free dataframe\n",
    "cardio.head()"
   ]
  },
  {
   "cell_type": "code",
   "execution_count": 18,
   "id": "45acf3c5",
   "metadata": {
    "execution": {
     "iopub.execute_input": "2024-03-17T05:42:38.357964Z",
     "iopub.status.busy": "2024-03-17T05:42:38.357647Z",
     "iopub.status.idle": "2024-03-17T05:42:38.756967Z",
     "shell.execute_reply": "2024-03-17T05:42:38.755824Z"
    },
    "papermill": {
     "duration": 0.415224,
     "end_time": "2024-03-17T05:42:38.759290",
     "exception": false,
     "start_time": "2024-03-17T05:42:38.344066",
     "status": "completed"
    },
    "tags": []
   },
   "outputs": [
    {
     "data": {
      "text/plain": [
       "<Axes: >"
      ]
     },
     "execution_count": 18,
     "metadata": {},
     "output_type": "execute_result"
    },
    {
     "data": {
      "image/png": "[encoded data removed]",
      "text/plain": [
       "<Figure size 640x480 with 1 Axes>"
      ]
     },
     "metadata": {},
     "output_type": "display_data"
    }
   ],
   "source": [
    "#plot numerical vlaues\n",
    "numeric_data=cardio[[\"age\",\"bmi\",\"ap_hi\",\"ap_lo\"]]\n",
    "numeric_data.boxplot()"
   ]
  },
  {
   "cell_type": "code",
   "execution_count": 19,
   "id": "63eedce0",
   "metadata": {
    "execution": {
     "iopub.execute_input": "2024-03-17T05:42:38.787645Z",
     "iopub.status.busy": "2024-03-17T05:42:38.786883Z",
     "iopub.status.idle": "2024-03-17T05:42:38.791757Z",
     "shell.execute_reply": "2024-03-17T05:42:38.791137Z"
    },
    "papermill": {
     "duration": 0.020366,
     "end_time": "2024-03-17T05:42:38.793201",
     "exception": false,
     "start_time": "2024-03-17T05:42:38.772835",
     "status": "completed"
    },
    "tags": []
   },
   "outputs": [
    {
     "data": {
      "text/plain": [
       "(70000, 11)"
      ]
     },
     "execution_count": 19,
     "metadata": {},
     "output_type": "execute_result"
    }
   ],
   "source": [
    "cardio.shape"
   ]
  },
  {
   "cell_type": "code",
   "execution_count": 20,
   "id": "8f08d0b3",
   "metadata": {
    "execution": {
     "iopub.execute_input": "2024-03-17T05:42:38.820434Z",
     "iopub.status.busy": "2024-03-17T05:42:38.819883Z",
     "iopub.status.idle": "2024-03-17T05:42:38.848170Z",
     "shell.execute_reply": "2024-03-17T05:42:38.847503Z"
    },
    "papermill": {
     "duration": 0.043614,
     "end_time": "2024-03-17T05:42:38.849666",
     "exception": false,
     "start_time": "2024-03-17T05:42:38.806052",
     "status": "completed"
    },
    "tags": []
   },
   "outputs": [
    {
     "data": {
      "text/html": [
       "<div>\n",
       "<style scoped>\n",
       "    .dataframe tbody tr th:only-of-type {\n",
       "        vertical-align: middle;\n",
       "    }\n",
       "\n",
       "    .dataframe tbody tr th {\n",
       "        vertical-align: top;\n",
       "    }\n",
       "\n",
       "    .dataframe thead th {\n",
       "        text-align: right;\n",
       "    }\n",
       "</style>\n",
       "<table border=\"1\" class=\"dataframe\">\n",
       "  <thead>\n",
       "    <tr style=\"text-align: right;\">\n",
       "      <th></th>\n",
       "      <th>age</th>\n",
       "      <th>bmi</th>\n",
       "      <th>ap_hi</th>\n",
       "      <th>ap_lo</th>\n",
       "    </tr>\n",
       "  </thead>\n",
       "  <tbody>\n",
       "    <tr>\n",
       "      <th>count</th>\n",
       "      <td>70000.000000</td>\n",
       "      <td>70000.000000</td>\n",
       "      <td>70000.000000</td>\n",
       "      <td>70000.000000</td>\n",
       "    </tr>\n",
       "    <tr>\n",
       "      <th>mean</th>\n",
       "      <td>53.339358</td>\n",
       "      <td>27.556513</td>\n",
       "      <td>128.817286</td>\n",
       "      <td>96.630414</td>\n",
       "    </tr>\n",
       "    <tr>\n",
       "      <th>std</th>\n",
       "      <td>6.759594</td>\n",
       "      <td>6.091511</td>\n",
       "      <td>154.011419</td>\n",
       "      <td>188.472530</td>\n",
       "    </tr>\n",
       "    <tr>\n",
       "      <th>min</th>\n",
       "      <td>29.583562</td>\n",
       "      <td>3.471784</td>\n",
       "      <td>-150.000000</td>\n",
       "      <td>-70.000000</td>\n",
       "    </tr>\n",
       "    <tr>\n",
       "      <th>25%</th>\n",
       "      <td>48.394521</td>\n",
       "      <td>23.875115</td>\n",
       "      <td>120.000000</td>\n",
       "      <td>80.000000</td>\n",
       "    </tr>\n",
       "    <tr>\n",
       "      <th>50%</th>\n",
       "      <td>53.980822</td>\n",
       "      <td>26.374068</td>\n",
       "      <td>120.000000</td>\n",
       "      <td>80.000000</td>\n",
       "    </tr>\n",
       "    <tr>\n",
       "      <th>75%</th>\n",
       "      <td>58.430137</td>\n",
       "      <td>30.222222</td>\n",
       "      <td>140.000000</td>\n",
       "      <td>90.000000</td>\n",
       "    </tr>\n",
       "    <tr>\n",
       "      <th>max</th>\n",
       "      <td>64.967123</td>\n",
       "      <td>298.666667</td>\n",
       "      <td>16020.000000</td>\n",
       "      <td>11000.000000</td>\n",
       "    </tr>\n",
       "  </tbody>\n",
       "</table>\n",
       "</div>"
      ],
      "text/plain": [
       "                age           bmi         ap_hi         ap_lo\n",
       "count  70000.000000  70000.000000  70000.000000  70000.000000\n",
       "mean      53.339358     27.556513    128.817286     96.630414\n",
       "std        6.759594      6.091511    154.011419    188.472530\n",
       "min       29.583562      3.471784   -150.000000    -70.000000\n",
       "25%       48.394521     23.875115    120.000000     80.000000\n",
       "50%       53.980822     26.374068    120.000000     80.000000\n",
       "75%       58.430137     30.222222    140.000000     90.000000\n",
       "max       64.967123    298.666667  16020.000000  11000.000000"
      ]
     },
     "execution_count": 20,
     "metadata": {},
     "output_type": "execute_result"
    }
   ],
   "source": [
    "numeric_data.describe()"
   ]
  },
  {
   "cell_type": "code",
   "execution_count": 21,
   "id": "fe5c1dfa",
   "metadata": {
    "execution": {
     "iopub.execute_input": "2024-03-17T05:42:38.877528Z",
     "iopub.status.busy": "2024-03-17T05:42:38.876776Z",
     "iopub.status.idle": "2024-03-17T05:42:38.885478Z",
     "shell.execute_reply": "2024-03-17T05:42:38.884751Z"
    },
    "papermill": {
     "duration": 0.024158,
     "end_time": "2024-03-17T05:42:38.886997",
     "exception": false,
     "start_time": "2024-03-17T05:42:38.862839",
     "status": "completed"
    },
    "tags": []
   },
   "outputs": [
    {
     "data": {
      "text/plain": [
       "cardio\n",
       "0    35021\n",
       "1    34979\n",
       "Name: count, dtype: int64"
      ]
     },
     "execution_count": 21,
     "metadata": {},
     "output_type": "execute_result"
    }
   ],
   "source": [
    "#check wheater data set is balance or imbalance\n",
    "cardio[\"cardio\"].value_counts()"
   ]
  },
  {
   "cell_type": "markdown",
   "id": "7b7bc36f",
   "metadata": {
    "papermill": {
     "duration": 0.013685,
     "end_time": "2024-03-17T05:42:38.914068",
     "exception": false,
     "start_time": "2024-03-17T05:42:38.900383",
     "status": "completed"
    },
    "tags": []
   },
   "source": [
    "Visualization"
   ]
  },
  {
   "cell_type": "code",
   "execution_count": 22,
   "id": "14d02202",
   "metadata": {
    "execution": {
     "iopub.execute_input": "2024-03-17T05:42:38.943840Z",
     "iopub.status.busy": "2024-03-17T05:42:38.943120Z",
     "iopub.status.idle": "2024-03-17T05:42:39.121440Z",
     "shell.execute_reply": "2024-03-17T05:42:39.120751Z"
    },
    "papermill": {
     "duration": 0.19508,
     "end_time": "2024-03-17T05:42:39.122937",
     "exception": false,
     "start_time": "2024-03-17T05:42:38.927857",
     "status": "completed"
    },
    "tags": []
   },
   "outputs": [
    {
     "data": {
      "text/plain": [
       "<Axes: xlabel='cardio'>"
      ]
     },
     "execution_count": 22,
     "metadata": {},
     "output_type": "execute_result"
    },
    {
     "data": {
      "image/png": "[encoded data removed]",
      "text/plain": [
       "<Figure size 640x480 with 1 Axes>"
      ]
     },
     "metadata": {},
     "output_type": "display_data"
    }
   ],
   "source": [
    "cardio[\"cardio\"].value_counts().plot(kind='bar',color=['blue','red'])"
   ]
  },
  {
   "cell_type": "code",
   "execution_count": 23,
   "id": "b6d4bd1e",
   "metadata": {
    "execution": {
     "iopub.execute_input": "2024-03-17T05:42:39.155808Z",
     "iopub.status.busy": "2024-03-17T05:42:39.155278Z",
     "iopub.status.idle": "2024-03-17T05:44:08.924171Z",
     "shell.execute_reply": "2024-03-17T05:44:08.923176Z"
    },
    "papermill": {
     "duration": 89.800583,
     "end_time": "2024-03-17T05:44:08.936992",
     "exception": false,
     "start_time": "2024-03-17T05:42:39.136409",
     "status": "completed"
    },
    "tags": []
   },
   "outputs": [
    {
     "data": {
      "image/png": "[encoded data removed]",
      "text/plain": [
       "<Figure size 640x480 with 1 Axes>"
      ]
     },
     "metadata": {},
     "output_type": "display_data"
    }
   ],
   "source": [
    "#plot cardio count with age\n",
    "sns.countplot(data=cardio,x=\"age\",hue=\"cardio\")\n",
    "plt.show()"
   ]
  },
  {
   "cell_type": "code",
   "execution_count": 24,
   "id": "3afee2f2",
   "metadata": {
    "execution": {
     "iopub.execute_input": "2024-03-17T05:44:08.965430Z",
     "iopub.status.busy": "2024-03-17T05:44:08.965064Z",
     "iopub.status.idle": "2024-03-17T05:44:09.119975Z",
     "shell.execute_reply": "2024-03-17T05:44:09.119142Z"
    },
    "papermill": {
     "duration": 0.171315,
     "end_time": "2024-03-17T05:44:09.121988",
     "exception": false,
     "start_time": "2024-03-17T05:44:08.950673",
     "status": "completed"
    },
    "tags": []
   },
   "outputs": [
    {
     "data": {
      "image/png": "[encoded data removed]",
      "text/plain": [
       "<Figure size 640x480 with 1 Axes>"
      ]
     },
     "metadata": {},
     "output_type": "display_data"
    }
   ],
   "source": [
    "#get plot about bmi and cardio in cardio table\n",
    "\n",
    "sns.boxplot(data=cardio,x=\"cardio\",y=\"bmi\")\n",
    "plt.show()\n"
   ]
  },
  {
   "cell_type": "code",
   "execution_count": 25,
   "id": "c2d9a22e",
   "metadata": {
    "execution": {
     "iopub.execute_input": "2024-03-17T05:44:09.158951Z",
     "iopub.status.busy": "2024-03-17T05:44:09.158432Z",
     "iopub.status.idle": "2024-03-17T05:44:09.633575Z",
     "shell.execute_reply": "2024-03-17T05:44:09.632350Z"
    },
    "papermill": {
     "duration": 0.498488,
     "end_time": "2024-03-17T05:44:09.635316",
     "exception": false,
     "start_time": "2024-03-17T05:44:09.136828",
     "status": "completed"
    },
    "tags": []
   },
   "outputs": [
    {
     "data": {
      "image/png": "[encoded data removed]",
      "text/plain": [
       "<Figure size 640x480 with 1 Axes>"
      ]
     },
     "metadata": {},
     "output_type": "display_data"
    }
   ],
   "source": [
    "# plot ap_hi with cardio\n",
    "sns.violinplot(data=cardio, x=\"cardio\", y=\"ap_hi\")\n",
    "plt.show()"
   ]
  },
  {
   "cell_type": "code",
   "execution_count": 26,
   "id": "a2066599",
   "metadata": {
    "execution": {
     "iopub.execute_input": "2024-03-17T05:44:09.664811Z",
     "iopub.status.busy": "2024-03-17T05:44:09.664477Z",
     "iopub.status.idle": "2024-03-17T05:44:10.050172Z",
     "shell.execute_reply": "2024-03-17T05:44:10.049471Z"
    },
    "papermill": {
     "duration": 0.402173,
     "end_time": "2024-03-17T05:44:10.051880",
     "exception": false,
     "start_time": "2024-03-17T05:44:09.649707",
     "status": "completed"
    },
    "tags": []
   },
   "outputs": [
    {
     "data": {
      "image/png": "[encoded data removed]",
      "text/plain": [
       "<Figure size 640x480 with 1 Axes>"
      ]
     },
     "metadata": {},
     "output_type": "display_data"
    }
   ],
   "source": [
    "#plot cardio count with ap_lo\n",
    "sns.violinplot(data=cardio, x=\"cardio\", y=\"ap_lo\")\n",
    "plt.show()"
   ]
  },
  {
   "cell_type": "code",
   "execution_count": 27,
   "id": "5a14ea19",
   "metadata": {
    "execution": {
     "iopub.execute_input": "2024-03-17T05:44:10.085340Z",
     "iopub.status.busy": "2024-03-17T05:44:10.084401Z",
     "iopub.status.idle": "2024-03-17T05:44:10.092892Z",
     "shell.execute_reply": "2024-03-17T05:44:10.092341Z"
    },
    "papermill": {
     "duration": 0.025672,
     "end_time": "2024-03-17T05:44:10.094390",
     "exception": false,
     "start_time": "2024-03-17T05:44:10.068718",
     "status": "completed"
    },
    "tags": []
   },
   "outputs": [
    {
     "data": {
      "text/html": [
       "<div>\n",
       "<style scoped>\n",
       "    .dataframe tbody tr th:only-of-type {\n",
       "        vertical-align: middle;\n",
       "    }\n",
       "\n",
       "    .dataframe tbody tr th {\n",
       "        vertical-align: top;\n",
       "    }\n",
       "\n",
       "    .dataframe thead th {\n",
       "        text-align: right;\n",
       "    }\n",
       "</style>\n",
       "<table border=\"1\" class=\"dataframe\">\n",
       "  <thead>\n",
       "    <tr style=\"text-align: right;\">\n",
       "      <th></th>\n",
       "      <th>age</th>\n",
       "      <th>bmi</th>\n",
       "      <th>ap_hi</th>\n",
       "      <th>ap_lo</th>\n",
       "    </tr>\n",
       "  </thead>\n",
       "  <tbody>\n",
       "    <tr>\n",
       "      <th>0</th>\n",
       "      <td>50.391781</td>\n",
       "      <td>21.967120</td>\n",
       "      <td>110</td>\n",
       "      <td>80</td>\n",
       "    </tr>\n",
       "    <tr>\n",
       "      <th>1</th>\n",
       "      <td>55.419178</td>\n",
       "      <td>34.927679</td>\n",
       "      <td>140</td>\n",
       "      <td>90</td>\n",
       "    </tr>\n",
       "    <tr>\n",
       "      <th>2</th>\n",
       "      <td>51.663014</td>\n",
       "      <td>23.507805</td>\n",
       "      <td>130</td>\n",
       "      <td>70</td>\n",
       "    </tr>\n",
       "    <tr>\n",
       "      <th>3</th>\n",
       "      <td>48.282192</td>\n",
       "      <td>28.710479</td>\n",
       "      <td>150</td>\n",
       "      <td>100</td>\n",
       "    </tr>\n",
       "    <tr>\n",
       "      <th>4</th>\n",
       "      <td>47.873973</td>\n",
       "      <td>23.011177</td>\n",
       "      <td>100</td>\n",
       "      <td>60</td>\n",
       "    </tr>\n",
       "  </tbody>\n",
       "</table>\n",
       "</div>"
      ],
      "text/plain": [
       "         age        bmi  ap_hi  ap_lo\n",
       "0  50.391781  21.967120    110     80\n",
       "1  55.419178  34.927679    140     90\n",
       "2  51.663014  23.507805    130     70\n",
       "3  48.282192  28.710479    150    100\n",
       "4  47.873973  23.011177    100     60"
      ]
     },
     "execution_count": 27,
     "metadata": {},
     "output_type": "execute_result"
    }
   ],
   "source": [
    "numeric_data.head()"
   ]
  },
  {
   "cell_type": "code",
   "execution_count": 28,
   "id": "5510a239",
   "metadata": {
    "execution": {
     "iopub.execute_input": "2024-03-17T05:44:10.125887Z",
     "iopub.status.busy": "2024-03-17T05:44:10.125273Z",
     "iopub.status.idle": "2024-03-17T05:44:10.388737Z",
     "shell.execute_reply": "2024-03-17T05:44:10.388127Z"
    },
    "papermill": {
     "duration": 0.281163,
     "end_time": "2024-03-17T05:44:10.390210",
     "exception": false,
     "start_time": "2024-03-17T05:44:10.109047",
     "status": "completed"
    },
    "tags": []
   },
   "outputs": [
    {
     "data": {
      "text/plain": [
       "<Axes: >"
      ]
     },
     "execution_count": 28,
     "metadata": {},
     "output_type": "execute_result"
    },
    {
     "data": {
      "image/png": "[encoded data removed]",
      "text/plain": [
       "<Figure size 640x480 with 2 Axes>"
      ]
     },
     "metadata": {},
     "output_type": "display_data"
    }
   ],
   "source": [
    "#check corelation\n",
    "sns.heatmap(numeric_data.corr(),annot=True,vmin=-1,vmax=+1)"
   ]
  },
  {
   "cell_type": "code",
   "execution_count": 29,
   "id": "0271ccc1",
   "metadata": {
    "execution": {
     "iopub.execute_input": "2024-03-17T05:44:10.420999Z",
     "iopub.status.busy": "2024-03-17T05:44:10.420504Z",
     "iopub.status.idle": "2024-03-17T05:44:53.686696Z",
     "shell.execute_reply": "2024-03-17T05:44:53.685848Z"
    },
    "papermill": {
     "duration": 43.30076,
     "end_time": "2024-03-17T05:44:53.705641",
     "exception": false,
     "start_time": "2024-03-17T05:44:10.404881",
     "status": "completed"
    },
    "tags": []
   },
   "outputs": [
    {
     "name": "stderr",
     "output_type": "stream",
     "text": [
      "/tmp/ipykernel_19/2459901083.py:4: SettingWithCopyWarning: \n",
      "A value is trying to be set on a copy of a slice from a DataFrame.\n",
      "Try using .loc[row_indexer,col_indexer] = value instead\n",
      "\n",
      "See the caveats in the documentation: https://pandas.pydata.org/pandas-docs/stable/user_guide/indexing.html#returning-a-view-versus-a-copy\n",
      "  df[\"cardio\"]=[\"Yes\" if m==1 else \"No\" for m in cardio[\"cardio\"]]\n"
     ]
    },
    {
     "data": {
      "image/png": "[encoded data removed]",
      "text/plain": [
       "<Figure size 1072.12x1000 with 20 Axes>"
      ]
     },
     "metadata": {},
     "output_type": "display_data"
    }
   ],
   "source": [
    "#plot pairplots with cardio\n",
    "\n",
    "df=numeric_data\n",
    "df[\"cardio\"]=[\"Yes\" if m==1 else \"No\" for m in cardio[\"cardio\"]]\n",
    "sns.pairplot(df,hue=\"cardio\")\n",
    "plt.show()"
   ]
  },
  {
   "cell_type": "markdown",
   "id": "c967224a",
   "metadata": {
    "papermill": {
     "duration": 0.015749,
     "end_time": "2024-03-17T05:44:53.737315",
     "exception": false,
     "start_time": "2024-03-17T05:44:53.721566",
     "status": "completed"
    },
    "tags": []
   },
   "source": [
    "Reindex columns"
   ]
  },
  {
   "cell_type": "code",
   "execution_count": 30,
   "id": "b698455e",
   "metadata": {
    "execution": {
     "iopub.execute_input": "2024-03-17T05:44:53.770751Z",
     "iopub.status.busy": "2024-03-17T05:44:53.770452Z",
     "iopub.status.idle": "2024-03-17T05:44:53.782872Z",
     "shell.execute_reply": "2024-03-17T05:44:53.782147Z"
    },
    "papermill": {
     "duration": 0.031278,
     "end_time": "2024-03-17T05:44:53.784561",
     "exception": false,
     "start_time": "2024-03-17T05:44:53.753283",
     "status": "completed"
    },
    "tags": []
   },
   "outputs": [
    {
     "data": {
      "text/html": [
       "<div>\n",
       "<style scoped>\n",
       "    .dataframe tbody tr th:only-of-type {\n",
       "        vertical-align: middle;\n",
       "    }\n",
       "\n",
       "    .dataframe tbody tr th {\n",
       "        vertical-align: top;\n",
       "    }\n",
       "\n",
       "    .dataframe thead th {\n",
       "        text-align: right;\n",
       "    }\n",
       "</style>\n",
       "<table border=\"1\" class=\"dataframe\">\n",
       "  <thead>\n",
       "    <tr style=\"text-align: right;\">\n",
       "      <th></th>\n",
       "      <th>age</th>\n",
       "      <th>ap_hi</th>\n",
       "      <th>ap_lo</th>\n",
       "      <th>bmi</th>\n",
       "      <th>gender</th>\n",
       "      <th>cholesterol</th>\n",
       "      <th>gluc</th>\n",
       "      <th>smoke</th>\n",
       "      <th>alco</th>\n",
       "      <th>active</th>\n",
       "      <th>cardio</th>\n",
       "    </tr>\n",
       "  </thead>\n",
       "  <tbody>\n",
       "    <tr>\n",
       "      <th>0</th>\n",
       "      <td>50.391781</td>\n",
       "      <td>110</td>\n",
       "      <td>80</td>\n",
       "      <td>21.967120</td>\n",
       "      <td>2</td>\n",
       "      <td>1</td>\n",
       "      <td>1</td>\n",
       "      <td>0</td>\n",
       "      <td>0</td>\n",
       "      <td>1</td>\n",
       "      <td>0</td>\n",
       "    </tr>\n",
       "    <tr>\n",
       "      <th>1</th>\n",
       "      <td>55.419178</td>\n",
       "      <td>140</td>\n",
       "      <td>90</td>\n",
       "      <td>34.927679</td>\n",
       "      <td>1</td>\n",
       "      <td>3</td>\n",
       "      <td>1</td>\n",
       "      <td>0</td>\n",
       "      <td>0</td>\n",
       "      <td>1</td>\n",
       "      <td>1</td>\n",
       "    </tr>\n",
       "    <tr>\n",
       "      <th>2</th>\n",
       "      <td>51.663014</td>\n",
       "      <td>130</td>\n",
       "      <td>70</td>\n",
       "      <td>23.507805</td>\n",
       "      <td>1</td>\n",
       "      <td>3</td>\n",
       "      <td>1</td>\n",
       "      <td>0</td>\n",
       "      <td>0</td>\n",
       "      <td>0</td>\n",
       "      <td>1</td>\n",
       "    </tr>\n",
       "    <tr>\n",
       "      <th>3</th>\n",
       "      <td>48.282192</td>\n",
       "      <td>150</td>\n",
       "      <td>100</td>\n",
       "      <td>28.710479</td>\n",
       "      <td>2</td>\n",
       "      <td>1</td>\n",
       "      <td>1</td>\n",
       "      <td>0</td>\n",
       "      <td>0</td>\n",
       "      <td>1</td>\n",
       "      <td>1</td>\n",
       "    </tr>\n",
       "    <tr>\n",
       "      <th>4</th>\n",
       "      <td>47.873973</td>\n",
       "      <td>100</td>\n",
       "      <td>60</td>\n",
       "      <td>23.011177</td>\n",
       "      <td>1</td>\n",
       "      <td>1</td>\n",
       "      <td>1</td>\n",
       "      <td>0</td>\n",
       "      <td>0</td>\n",
       "      <td>0</td>\n",
       "      <td>0</td>\n",
       "    </tr>\n",
       "  </tbody>\n",
       "</table>\n",
       "</div>"
      ],
      "text/plain": [
       "         age  ap_hi  ap_lo        bmi  gender  cholesterol  gluc  smoke  alco  \\\n",
       "0  50.391781    110     80  21.967120       2            1     1      0     0   \n",
       "1  55.419178    140     90  34.927679       1            3     1      0     0   \n",
       "2  51.663014    130     70  23.507805       1            3     1      0     0   \n",
       "3  48.282192    150    100  28.710479       2            1     1      0     0   \n",
       "4  47.873973    100     60  23.011177       1            1     1      0     0   \n",
       "\n",
       "   active  cardio  \n",
       "0       1       0  \n",
       "1       1       1  \n",
       "2       0       1  \n",
       "3       1       1  \n",
       "4       0       0  "
      ]
     },
     "execution_count": 30,
     "metadata": {},
     "output_type": "execute_result"
    }
   ],
   "source": [
    "cardio=cardio.reindex(columns=[\"age\",\"ap_hi\",\"ap_lo\",\"bmi\",\"gender\",\"cholesterol\",\"gluc\",\"smoke\",\"alco\",\"active\",\"cardio\"])\n",
    "cardio.head()"
   ]
  },
  {
   "cell_type": "markdown",
   "id": "4eb39283",
   "metadata": {
    "papermill": {
     "duration": 0.015911,
     "end_time": "2024-03-17T05:44:53.817159",
     "exception": false,
     "start_time": "2024-03-17T05:44:53.801248",
     "status": "completed"
    },
    "tags": []
   },
   "source": [
    "data encoding"
   ]
  },
  {
   "cell_type": "code",
   "execution_count": 31,
   "id": "9b9f9691",
   "metadata": {
    "execution": {
     "iopub.execute_input": "2024-03-17T05:44:53.850757Z",
     "iopub.status.busy": "2024-03-17T05:44:53.850468Z",
     "iopub.status.idle": "2024-03-17T05:44:53.853695Z",
     "shell.execute_reply": "2024-03-17T05:44:53.853129Z"
    },
    "papermill": {
     "duration": 0.021864,
     "end_time": "2024-03-17T05:44:53.855027",
     "exception": false,
     "start_time": "2024-03-17T05:44:53.833163",
     "status": "completed"
    },
    "tags": []
   },
   "outputs": [],
   "source": [
    "from sklearn.preprocessing import LabelEncoder"
   ]
  },
  {
   "cell_type": "code",
   "execution_count": 32,
   "id": "ada44b43",
   "metadata": {
    "execution": {
     "iopub.execute_input": "2024-03-17T05:44:53.888275Z",
     "iopub.status.busy": "2024-03-17T05:44:53.888020Z",
     "iopub.status.idle": "2024-03-17T05:44:53.900545Z",
     "shell.execute_reply": "2024-03-17T05:44:53.899870Z"
    },
    "papermill": {
     "duration": 0.030954,
     "end_time": "2024-03-17T05:44:53.902071",
     "exception": false,
     "start_time": "2024-03-17T05:44:53.871117",
     "status": "completed"
    },
    "tags": []
   },
   "outputs": [
    {
     "data": {
      "text/html": [
       "<div>\n",
       "<style scoped>\n",
       "    .dataframe tbody tr th:only-of-type {\n",
       "        vertical-align: middle;\n",
       "    }\n",
       "\n",
       "    .dataframe tbody tr th {\n",
       "        vertical-align: top;\n",
       "    }\n",
       "\n",
       "    .dataframe thead th {\n",
       "        text-align: right;\n",
       "    }\n",
       "</style>\n",
       "<table border=\"1\" class=\"dataframe\">\n",
       "  <thead>\n",
       "    <tr style=\"text-align: right;\">\n",
       "      <th></th>\n",
       "      <th>age</th>\n",
       "      <th>ap_hi</th>\n",
       "      <th>ap_lo</th>\n",
       "      <th>bmi</th>\n",
       "      <th>gender</th>\n",
       "      <th>cholesterol</th>\n",
       "      <th>gluc</th>\n",
       "      <th>smoke</th>\n",
       "      <th>alco</th>\n",
       "      <th>active</th>\n",
       "      <th>cardio</th>\n",
       "    </tr>\n",
       "  </thead>\n",
       "  <tbody>\n",
       "    <tr>\n",
       "      <th>0</th>\n",
       "      <td>50.391781</td>\n",
       "      <td>110</td>\n",
       "      <td>80</td>\n",
       "      <td>21.967120</td>\n",
       "      <td>1</td>\n",
       "      <td>1</td>\n",
       "      <td>1</td>\n",
       "      <td>0</td>\n",
       "      <td>0</td>\n",
       "      <td>1</td>\n",
       "      <td>0</td>\n",
       "    </tr>\n",
       "    <tr>\n",
       "      <th>1</th>\n",
       "      <td>55.419178</td>\n",
       "      <td>140</td>\n",
       "      <td>90</td>\n",
       "      <td>34.927679</td>\n",
       "      <td>0</td>\n",
       "      <td>3</td>\n",
       "      <td>1</td>\n",
       "      <td>0</td>\n",
       "      <td>0</td>\n",
       "      <td>1</td>\n",
       "      <td>1</td>\n",
       "    </tr>\n",
       "    <tr>\n",
       "      <th>2</th>\n",
       "      <td>51.663014</td>\n",
       "      <td>130</td>\n",
       "      <td>70</td>\n",
       "      <td>23.507805</td>\n",
       "      <td>0</td>\n",
       "      <td>3</td>\n",
       "      <td>1</td>\n",
       "      <td>0</td>\n",
       "      <td>0</td>\n",
       "      <td>0</td>\n",
       "      <td>1</td>\n",
       "    </tr>\n",
       "    <tr>\n",
       "      <th>3</th>\n",
       "      <td>48.282192</td>\n",
       "      <td>150</td>\n",
       "      <td>100</td>\n",
       "      <td>28.710479</td>\n",
       "      <td>1</td>\n",
       "      <td>1</td>\n",
       "      <td>1</td>\n",
       "      <td>0</td>\n",
       "      <td>0</td>\n",
       "      <td>1</td>\n",
       "      <td>1</td>\n",
       "    </tr>\n",
       "    <tr>\n",
       "      <th>4</th>\n",
       "      <td>47.873973</td>\n",
       "      <td>100</td>\n",
       "      <td>60</td>\n",
       "      <td>23.011177</td>\n",
       "      <td>0</td>\n",
       "      <td>1</td>\n",
       "      <td>1</td>\n",
       "      <td>0</td>\n",
       "      <td>0</td>\n",
       "      <td>0</td>\n",
       "      <td>0</td>\n",
       "    </tr>\n",
       "  </tbody>\n",
       "</table>\n",
       "</div>"
      ],
      "text/plain": [
       "         age  ap_hi  ap_lo        bmi  gender  cholesterol  gluc  smoke  alco  \\\n",
       "0  50.391781    110     80  21.967120       1            1     1      0     0   \n",
       "1  55.419178    140     90  34.927679       0            3     1      0     0   \n",
       "2  51.663014    130     70  23.507805       0            3     1      0     0   \n",
       "3  48.282192    150    100  28.710479       1            1     1      0     0   \n",
       "4  47.873973    100     60  23.011177       0            1     1      0     0   \n",
       "\n",
       "   active  cardio  \n",
       "0       1       0  \n",
       "1       1       1  \n",
       "2       0       1  \n",
       "3       1       1  \n",
       "4       0       0  "
      ]
     },
     "execution_count": 32,
     "metadata": {},
     "output_type": "execute_result"
    }
   ],
   "source": [
    "le=LabelEncoder()\n",
    "cardio[\"gender\"]=le.fit_transform(cardio[\"gender\"])\n",
    "cardio.head()"
   ]
  },
  {
   "cell_type": "code",
   "execution_count": 33,
   "id": "0da8c2a9",
   "metadata": {
    "execution": {
     "iopub.execute_input": "2024-03-17T05:44:53.937021Z",
     "iopub.status.busy": "2024-03-17T05:44:53.936732Z",
     "iopub.status.idle": "2024-03-17T05:44:53.941786Z",
     "shell.execute_reply": "2024-03-17T05:44:53.940854Z"
    },
    "papermill": {
     "duration": 0.024785,
     "end_time": "2024-03-17T05:44:53.943524",
     "exception": false,
     "start_time": "2024-03-17T05:44:53.918739",
     "status": "completed"
    },
    "tags": []
   },
   "outputs": [],
   "source": [
    "from sklearn.preprocessing import OneHotEncoder\n",
    "ohe=OneHotEncoder()"
   ]
  },
  {
   "cell_type": "code",
   "execution_count": 34,
   "id": "fcb0877d",
   "metadata": {
    "execution": {
     "iopub.execute_input": "2024-03-17T05:44:53.978914Z",
     "iopub.status.busy": "2024-03-17T05:44:53.978564Z",
     "iopub.status.idle": "2024-03-17T05:44:53.995648Z",
     "shell.execute_reply": "2024-03-17T05:44:53.994865Z"
    },
    "papermill": {
     "duration": 0.036334,
     "end_time": "2024-03-17T05:44:53.997337",
     "exception": false,
     "start_time": "2024-03-17T05:44:53.961003",
     "status": "completed"
    },
    "tags": []
   },
   "outputs": [
    {
     "name": "stdout",
     "output_type": "stream",
     "text": [
      "(70000, 2)\n"
     ]
    },
    {
     "data": {
      "text/html": [
       "<div>\n",
       "<style scoped>\n",
       "    .dataframe tbody tr th:only-of-type {\n",
       "        vertical-align: middle;\n",
       "    }\n",
       "\n",
       "    .dataframe tbody tr th {\n",
       "        vertical-align: top;\n",
       "    }\n",
       "\n",
       "    .dataframe thead th {\n",
       "        text-align: right;\n",
       "    }\n",
       "</style>\n",
       "<table border=\"1\" class=\"dataframe\">\n",
       "  <thead>\n",
       "    <tr style=\"text-align: right;\">\n",
       "      <th></th>\n",
       "      <th>above normal chol</th>\n",
       "      <th>well above normal chol</th>\n",
       "    </tr>\n",
       "  </thead>\n",
       "  <tbody>\n",
       "    <tr>\n",
       "      <th>0</th>\n",
       "      <td>0</td>\n",
       "      <td>0</td>\n",
       "    </tr>\n",
       "    <tr>\n",
       "      <th>1</th>\n",
       "      <td>0</td>\n",
       "      <td>1</td>\n",
       "    </tr>\n",
       "    <tr>\n",
       "      <th>2</th>\n",
       "      <td>0</td>\n",
       "      <td>1</td>\n",
       "    </tr>\n",
       "    <tr>\n",
       "      <th>3</th>\n",
       "      <td>0</td>\n",
       "      <td>0</td>\n",
       "    </tr>\n",
       "    <tr>\n",
       "      <th>4</th>\n",
       "      <td>0</td>\n",
       "      <td>0</td>\n",
       "    </tr>\n",
       "  </tbody>\n",
       "</table>\n",
       "</div>"
      ],
      "text/plain": [
       "   above normal chol  well above normal chol\n",
       "0                  0                       0\n",
       "1                  0                       1\n",
       "2                  0                       1\n",
       "3                  0                       0\n",
       "4                  0                       0"
      ]
     },
     "execution_count": 34,
     "metadata": {},
     "output_type": "execute_result"
    }
   ],
   "source": [
    "one_hotE1=ohe.fit_transform(cardio[\"cholesterol\"].values.reshape(len(cardio[\"cholesterol\"]),1)).toarray()\n",
    "one_hotE1=one_hotE1[:,1:].astype(int) #since there are 3 features we can remove one and conver values into integers\n",
    "\n",
    "print(one_hotE1.shape)\n",
    "#create a dataframe by including encoded arrays\n",
    "df_ohot1=pd.DataFrame(one_hotE1,columns=[\"above normal chol\",\"well above normal chol\"])\n",
    "\n",
    "df_ohot1.head()"
   ]
  },
  {
   "cell_type": "code",
   "execution_count": 35,
   "id": "4f262288",
   "metadata": {
    "execution": {
     "iopub.execute_input": "2024-03-17T05:44:54.032361Z",
     "iopub.status.busy": "2024-03-17T05:44:54.032043Z",
     "iopub.status.idle": "2024-03-17T05:44:54.046724Z",
     "shell.execute_reply": "2024-03-17T05:44:54.045868Z"
    },
    "papermill": {
     "duration": 0.033899,
     "end_time": "2024-03-17T05:44:54.048267",
     "exception": false,
     "start_time": "2024-03-17T05:44:54.014368",
     "status": "completed"
    },
    "tags": []
   },
   "outputs": [
    {
     "name": "stdout",
     "output_type": "stream",
     "text": [
      "(70000, 2)\n"
     ]
    },
    {
     "data": {
      "text/html": [
       "<div>\n",
       "<style scoped>\n",
       "    .dataframe tbody tr th:only-of-type {\n",
       "        vertical-align: middle;\n",
       "    }\n",
       "\n",
       "    .dataframe tbody tr th {\n",
       "        vertical-align: top;\n",
       "    }\n",
       "\n",
       "    .dataframe thead th {\n",
       "        text-align: right;\n",
       "    }\n",
       "</style>\n",
       "<table border=\"1\" class=\"dataframe\">\n",
       "  <thead>\n",
       "    <tr style=\"text-align: right;\">\n",
       "      <th></th>\n",
       "      <th>above normal gluc</th>\n",
       "      <th>well above normal gluc</th>\n",
       "    </tr>\n",
       "  </thead>\n",
       "  <tbody>\n",
       "    <tr>\n",
       "      <th>0</th>\n",
       "      <td>0</td>\n",
       "      <td>0</td>\n",
       "    </tr>\n",
       "    <tr>\n",
       "      <th>1</th>\n",
       "      <td>0</td>\n",
       "      <td>0</td>\n",
       "    </tr>\n",
       "    <tr>\n",
       "      <th>2</th>\n",
       "      <td>0</td>\n",
       "      <td>0</td>\n",
       "    </tr>\n",
       "    <tr>\n",
       "      <th>3</th>\n",
       "      <td>0</td>\n",
       "      <td>0</td>\n",
       "    </tr>\n",
       "    <tr>\n",
       "      <th>4</th>\n",
       "      <td>0</td>\n",
       "      <td>0</td>\n",
       "    </tr>\n",
       "  </tbody>\n",
       "</table>\n",
       "</div>"
      ],
      "text/plain": [
       "   above normal gluc  well above normal gluc\n",
       "0                  0                       0\n",
       "1                  0                       0\n",
       "2                  0                       0\n",
       "3                  0                       0\n",
       "4                  0                       0"
      ]
     },
     "execution_count": 35,
     "metadata": {},
     "output_type": "execute_result"
    }
   ],
   "source": [
    "#for gluc\n",
    "#for fit it needs 2D array. thats why reshape needs\n",
    "one_hotE2=ohe.fit_transform(cardio[\"gluc\"].values.reshape(len(cardio[\"gluc\"]),1)).toarray()\n",
    "one_hotE2=one_hotE2[:,1:].astype(int) #since there are 3 features we can remove one and conver values into integers\n",
    "\n",
    "print(one_hotE2.shape)\n",
    "#create a dataframe by including encoded arrays\n",
    "df_ohot2=pd.DataFrame(one_hotE2,columns=[\"above normal gluc\",\"well above normal gluc\"])\n",
    "\n",
    "df_ohot2.head()"
   ]
  },
  {
   "cell_type": "code",
   "execution_count": 36,
   "id": "121bae8c",
   "metadata": {
    "execution": {
     "iopub.execute_input": "2024-03-17T05:44:54.083472Z",
     "iopub.status.busy": "2024-03-17T05:44:54.083197Z",
     "iopub.status.idle": "2024-03-17T05:44:54.096976Z",
     "shell.execute_reply": "2024-03-17T05:44:54.096166Z"
    },
    "papermill": {
     "duration": 0.033595,
     "end_time": "2024-03-17T05:44:54.098657",
     "exception": false,
     "start_time": "2024-03-17T05:44:54.065062",
     "status": "completed"
    },
    "tags": []
   },
   "outputs": [
    {
     "data": {
      "text/html": [
       "<div>\n",
       "<style scoped>\n",
       "    .dataframe tbody tr th:only-of-type {\n",
       "        vertical-align: middle;\n",
       "    }\n",
       "\n",
       "    .dataframe tbody tr th {\n",
       "        vertical-align: top;\n",
       "    }\n",
       "\n",
       "    .dataframe thead th {\n",
       "        text-align: right;\n",
       "    }\n",
       "</style>\n",
       "<table border=\"1\" class=\"dataframe\">\n",
       "  <thead>\n",
       "    <tr style=\"text-align: right;\">\n",
       "      <th></th>\n",
       "      <th>age</th>\n",
       "      <th>ap_hi</th>\n",
       "      <th>ap_lo</th>\n",
       "      <th>bmi</th>\n",
       "      <th>gender</th>\n",
       "      <th>cholesterol</th>\n",
       "      <th>gluc</th>\n",
       "      <th>smoke</th>\n",
       "      <th>alco</th>\n",
       "      <th>active</th>\n",
       "      <th>cardio</th>\n",
       "    </tr>\n",
       "  </thead>\n",
       "  <tbody>\n",
       "    <tr>\n",
       "      <th>0</th>\n",
       "      <td>50.391781</td>\n",
       "      <td>110</td>\n",
       "      <td>80</td>\n",
       "      <td>21.967120</td>\n",
       "      <td>1</td>\n",
       "      <td>1</td>\n",
       "      <td>1</td>\n",
       "      <td>0</td>\n",
       "      <td>0</td>\n",
       "      <td>1</td>\n",
       "      <td>0</td>\n",
       "    </tr>\n",
       "    <tr>\n",
       "      <th>1</th>\n",
       "      <td>55.419178</td>\n",
       "      <td>140</td>\n",
       "      <td>90</td>\n",
       "      <td>34.927679</td>\n",
       "      <td>0</td>\n",
       "      <td>3</td>\n",
       "      <td>1</td>\n",
       "      <td>0</td>\n",
       "      <td>0</td>\n",
       "      <td>1</td>\n",
       "      <td>1</td>\n",
       "    </tr>\n",
       "    <tr>\n",
       "      <th>2</th>\n",
       "      <td>51.663014</td>\n",
       "      <td>130</td>\n",
       "      <td>70</td>\n",
       "      <td>23.507805</td>\n",
       "      <td>0</td>\n",
       "      <td>3</td>\n",
       "      <td>1</td>\n",
       "      <td>0</td>\n",
       "      <td>0</td>\n",
       "      <td>0</td>\n",
       "      <td>1</td>\n",
       "    </tr>\n",
       "    <tr>\n",
       "      <th>3</th>\n",
       "      <td>48.282192</td>\n",
       "      <td>150</td>\n",
       "      <td>100</td>\n",
       "      <td>28.710479</td>\n",
       "      <td>1</td>\n",
       "      <td>1</td>\n",
       "      <td>1</td>\n",
       "      <td>0</td>\n",
       "      <td>0</td>\n",
       "      <td>1</td>\n",
       "      <td>1</td>\n",
       "    </tr>\n",
       "    <tr>\n",
       "      <th>4</th>\n",
       "      <td>47.873973</td>\n",
       "      <td>100</td>\n",
       "      <td>60</td>\n",
       "      <td>23.011177</td>\n",
       "      <td>0</td>\n",
       "      <td>1</td>\n",
       "      <td>1</td>\n",
       "      <td>0</td>\n",
       "      <td>0</td>\n",
       "      <td>0</td>\n",
       "      <td>0</td>\n",
       "    </tr>\n",
       "  </tbody>\n",
       "</table>\n",
       "</div>"
      ],
      "text/plain": [
       "         age  ap_hi  ap_lo        bmi  gender  cholesterol  gluc  smoke  alco  \\\n",
       "0  50.391781    110     80  21.967120       1            1     1      0     0   \n",
       "1  55.419178    140     90  34.927679       0            3     1      0     0   \n",
       "2  51.663014    130     70  23.507805       0            3     1      0     0   \n",
       "3  48.282192    150    100  28.710479       1            1     1      0     0   \n",
       "4  47.873973    100     60  23.011177       0            1     1      0     0   \n",
       "\n",
       "   active  cardio  \n",
       "0       1       0  \n",
       "1       1       1  \n",
       "2       0       1  \n",
       "3       1       1  \n",
       "4       0       0  "
      ]
     },
     "execution_count": 36,
     "metadata": {},
     "output_type": "execute_result"
    }
   ],
   "source": [
    "#Reset data index\n",
    "#when we doing clearance some data rows removed. so some indexing are missing. if we concat like this there may have some misiing\n",
    "\n",
    "cardio.reset_index(inplace=True)\n",
    "cardio.drop(\"index\",axis=1,inplace=True)\n",
    "cardio.head()"
   ]
  },
  {
   "cell_type": "code",
   "execution_count": 37,
   "id": "be52f069",
   "metadata": {
    "execution": {
     "iopub.execute_input": "2024-03-17T05:44:54.135088Z",
     "iopub.status.busy": "2024-03-17T05:44:54.134807Z",
     "iopub.status.idle": "2024-03-17T05:44:54.151287Z",
     "shell.execute_reply": "2024-03-17T05:44:54.150256Z"
    },
    "papermill": {
     "duration": 0.036517,
     "end_time": "2024-03-17T05:44:54.152896",
     "exception": false,
     "start_time": "2024-03-17T05:44:54.116379",
     "status": "completed"
    },
    "tags": []
   },
   "outputs": [
    {
     "data": {
      "text/html": [
       "<div>\n",
       "<style scoped>\n",
       "    .dataframe tbody tr th:only-of-type {\n",
       "        vertical-align: middle;\n",
       "    }\n",
       "\n",
       "    .dataframe tbody tr th {\n",
       "        vertical-align: top;\n",
       "    }\n",
       "\n",
       "    .dataframe thead th {\n",
       "        text-align: right;\n",
       "    }\n",
       "</style>\n",
       "<table border=\"1\" class=\"dataframe\">\n",
       "  <thead>\n",
       "    <tr style=\"text-align: right;\">\n",
       "      <th></th>\n",
       "      <th>age</th>\n",
       "      <th>ap_hi</th>\n",
       "      <th>ap_lo</th>\n",
       "      <th>bmi</th>\n",
       "      <th>gender</th>\n",
       "      <th>smoke</th>\n",
       "      <th>alco</th>\n",
       "      <th>active</th>\n",
       "      <th>above normal chol</th>\n",
       "      <th>well above normal chol</th>\n",
       "      <th>above normal gluc</th>\n",
       "      <th>well above normal gluc</th>\n",
       "    </tr>\n",
       "  </thead>\n",
       "  <tbody>\n",
       "    <tr>\n",
       "      <th>0</th>\n",
       "      <td>50.391781</td>\n",
       "      <td>110</td>\n",
       "      <td>80</td>\n",
       "      <td>21.967120</td>\n",
       "      <td>1</td>\n",
       "      <td>0</td>\n",
       "      <td>0</td>\n",
       "      <td>1</td>\n",
       "      <td>0</td>\n",
       "      <td>0</td>\n",
       "      <td>0</td>\n",
       "      <td>0</td>\n",
       "    </tr>\n",
       "    <tr>\n",
       "      <th>1</th>\n",
       "      <td>55.419178</td>\n",
       "      <td>140</td>\n",
       "      <td>90</td>\n",
       "      <td>34.927679</td>\n",
       "      <td>0</td>\n",
       "      <td>0</td>\n",
       "      <td>0</td>\n",
       "      <td>1</td>\n",
       "      <td>0</td>\n",
       "      <td>1</td>\n",
       "      <td>0</td>\n",
       "      <td>0</td>\n",
       "    </tr>\n",
       "    <tr>\n",
       "      <th>2</th>\n",
       "      <td>51.663014</td>\n",
       "      <td>130</td>\n",
       "      <td>70</td>\n",
       "      <td>23.507805</td>\n",
       "      <td>0</td>\n",
       "      <td>0</td>\n",
       "      <td>0</td>\n",
       "      <td>0</td>\n",
       "      <td>0</td>\n",
       "      <td>1</td>\n",
       "      <td>0</td>\n",
       "      <td>0</td>\n",
       "    </tr>\n",
       "    <tr>\n",
       "      <th>3</th>\n",
       "      <td>48.282192</td>\n",
       "      <td>150</td>\n",
       "      <td>100</td>\n",
       "      <td>28.710479</td>\n",
       "      <td>1</td>\n",
       "      <td>0</td>\n",
       "      <td>0</td>\n",
       "      <td>1</td>\n",
       "      <td>0</td>\n",
       "      <td>0</td>\n",
       "      <td>0</td>\n",
       "      <td>0</td>\n",
       "    </tr>\n",
       "    <tr>\n",
       "      <th>4</th>\n",
       "      <td>47.873973</td>\n",
       "      <td>100</td>\n",
       "      <td>60</td>\n",
       "      <td>23.011177</td>\n",
       "      <td>0</td>\n",
       "      <td>0</td>\n",
       "      <td>0</td>\n",
       "      <td>0</td>\n",
       "      <td>0</td>\n",
       "      <td>0</td>\n",
       "      <td>0</td>\n",
       "      <td>0</td>\n",
       "    </tr>\n",
       "  </tbody>\n",
       "</table>\n",
       "</div>"
      ],
      "text/plain": [
       "         age  ap_hi  ap_lo        bmi  gender  smoke  alco  active  \\\n",
       "0  50.391781    110     80  21.967120       1      0     0       1   \n",
       "1  55.419178    140     90  34.927679       0      0     0       1   \n",
       "2  51.663014    130     70  23.507805       0      0     0       0   \n",
       "3  48.282192    150    100  28.710479       1      0     0       1   \n",
       "4  47.873973    100     60  23.011177       0      0     0       0   \n",
       "\n",
       "   above normal chol  well above normal chol  above normal gluc  \\\n",
       "0                  0                       0                  0   \n",
       "1                  0                       1                  0   \n",
       "2                  0                       1                  0   \n",
       "3                  0                       0                  0   \n",
       "4                  0                       0                  0   \n",
       "\n",
       "   well above normal gluc  \n",
       "0                       0  \n",
       "1                       0  \n",
       "2                       0  \n",
       "3                       0  \n",
       "4                       0  "
      ]
     },
     "execution_count": 37,
     "metadata": {},
     "output_type": "execute_result"
    }
   ],
   "source": [
    "df=pd.concat([cardio.iloc[:,:10],df_ohot1,df_ohot2],axis=1)\n",
    "df.drop([\"cholesterol\",\"gluc\"],axis=1,inplace=True)\n",
    "df.head()"
   ]
  },
  {
   "cell_type": "markdown",
   "id": "063f066f",
   "metadata": {
    "papermill": {
     "duration": 0.017143,
     "end_time": "2024-03-17T05:44:54.187761",
     "exception": false,
     "start_time": "2024-03-17T05:44:54.170618",
     "status": "completed"
    },
    "tags": []
   },
   "source": [
    "Standerize the values"
   ]
  },
  {
   "cell_type": "code",
   "execution_count": 38,
   "id": "b73a0733",
   "metadata": {
    "execution": {
     "iopub.execute_input": "2024-03-17T05:44:54.223895Z",
     "iopub.status.busy": "2024-03-17T05:44:54.223564Z",
     "iopub.status.idle": "2024-03-17T05:44:54.233687Z",
     "shell.execute_reply": "2024-03-17T05:44:54.232856Z"
    },
    "papermill": {
     "duration": 0.030725,
     "end_time": "2024-03-17T05:44:54.235718",
     "exception": false,
     "start_time": "2024-03-17T05:44:54.204993",
     "status": "completed"
    },
    "tags": []
   },
   "outputs": [
    {
     "data": {
      "text/plain": [
       "array([[-0.43606151, -0.12218198, -0.0882385 , -0.91757729],\n",
       "       [ 0.30768633,  0.07261016, -0.03517999,  1.21008057],\n",
       "       [-0.24799666,  0.00767945, -0.14129701, -0.66465218],\n",
       "       ...,\n",
       "       [-0.16328642,  0.33233302, -0.03517999,  0.62334178],\n",
       "       [ 1.20058905,  0.04014481, -0.0882385 , -0.07506591],\n",
       "       [ 0.43414373, -0.05725127, -0.0882385 , -0.4338885 ]])"
      ]
     },
     "execution_count": 38,
     "metadata": {},
     "output_type": "execute_result"
    }
   ],
   "source": [
    "x=df.values\n",
    "y=cardio.iloc[:,8].values\n",
    "\n",
    "from sklearn.preprocessing import StandardScaler\n",
    "sc=StandardScaler()\n",
    "x[:,:4]=sc.fit_transform(x[:,:4])\n",
    "x[:,:4]"
   ]
  },
  {
   "cell_type": "code",
   "execution_count": 39,
   "id": "46474c49",
   "metadata": {
    "execution": {
     "iopub.execute_input": "2024-03-17T05:44:54.274690Z",
     "iopub.status.busy": "2024-03-17T05:44:54.274271Z",
     "iopub.status.idle": "2024-03-17T05:44:54.284129Z",
     "shell.execute_reply": "2024-03-17T05:44:54.282985Z"
    },
    "papermill": {
     "duration": 0.032242,
     "end_time": "2024-03-17T05:44:54.286248",
     "exception": false,
     "start_time": "2024-03-17T05:44:54.254006",
     "status": "completed"
    },
    "tags": []
   },
   "outputs": [],
   "source": [
    "x_train, x_test, y_train, y_test = train_test_split(x, y, test_size=0.2, random_state=0)"
   ]
  },
  {
   "cell_type": "markdown",
   "id": "4305282e",
   "metadata": {
    "papermill": {
     "duration": 0.018484,
     "end_time": "2024-03-17T05:44:54.323520",
     "exception": false,
     "start_time": "2024-03-17T05:44:54.305036",
     "status": "completed"
    },
    "tags": []
   },
   "source": [
    "Use voting class clasifier"
   ]
  },
  {
   "cell_type": "code",
   "execution_count": 40,
   "id": "fec9c03d",
   "metadata": {
    "execution": {
     "iopub.execute_input": "2024-03-17T05:44:54.359856Z",
     "iopub.status.busy": "2024-03-17T05:44:54.359550Z",
     "iopub.status.idle": "2024-03-17T05:44:54.364339Z",
     "shell.execute_reply": "2024-03-17T05:44:54.363561Z"
    },
    "papermill": {
     "duration": 0.025106,
     "end_time": "2024-03-17T05:44:54.365842",
     "exception": false,
     "start_time": "2024-03-17T05:44:54.340736",
     "status": "completed"
    },
    "tags": []
   },
   "outputs": [],
   "source": [
    "#create model objects\n",
    "model1_lr = LogisticRegression(C=1.0, solver='lbfgs')\n",
    "model2_svm = SVC(kernel=\"rbf\",C=1.0, gamma='scale')\n",
    "model3_dt = DecisionTreeClassifier(criterion='gini', max_depth=None)\n",
    "model4_rf = RandomForestClassifier(n_estimators=500, max_features='sqrt')\n",
    "model5_gb = GradientBoostingClassifier(learning_rate=0.1,n_estimators=100)\n",
    "model6_knn = KNeighborsClassifier(n_neighbors=50,metric='minkowski')\n"
   ]
  },
  {
   "cell_type": "code",
   "execution_count": 41,
   "id": "c1237d7d",
   "metadata": {
    "execution": {
     "iopub.execute_input": "2024-03-17T05:44:54.405545Z",
     "iopub.status.busy": "2024-03-17T05:44:54.405257Z",
     "iopub.status.idle": "2024-03-17T05:44:54.409299Z",
     "shell.execute_reply": "2024-03-17T05:44:54.408527Z"
    },
    "papermill": {
     "duration": 0.024736,
     "end_time": "2024-03-17T05:44:54.411201",
     "exception": false,
     "start_time": "2024-03-17T05:44:54.386465",
     "status": "completed"
    },
    "tags": []
   },
   "outputs": [],
   "source": [
    "T1=(\"lr\",model1_lr)\n",
    "T2=(\"svm\",model2_svm)\n",
    "T3=(\"dt\",model3_dt)\n",
    "T4=(\"rf\",model4_rf)\n",
    "T5=(\"gb\",model5_gb)\n",
    "T6=(\"knn\",model6_knn)"
   ]
  },
  {
   "cell_type": "code",
   "execution_count": 42,
   "id": "60c96eb1",
   "metadata": {
    "execution": {
     "iopub.execute_input": "2024-03-17T05:44:54.448173Z",
     "iopub.status.busy": "2024-03-17T05:44:54.447863Z",
     "iopub.status.idle": "2024-03-17T05:44:54.568803Z",
     "shell.execute_reply": "2024-03-17T05:44:54.567985Z"
    },
    "papermill": {
     "duration": 0.141083,
     "end_time": "2024-03-17T05:44:54.570597",
     "exception": false,
     "start_time": "2024-03-17T05:44:54.429514",
     "status": "completed"
    },
    "tags": []
   },
   "outputs": [
    {
     "name": "stdout",
     "output_type": "stream",
     "text": [
      "1.0\n",
      "              precision    recall  f1-score   support\n",
      "\n",
      "           0       1.00      1.00      1.00     13270\n",
      "           1       1.00      1.00      1.00       730\n",
      "\n",
      "    accuracy                           1.00     14000\n",
      "   macro avg       1.00      1.00      1.00     14000\n",
      "weighted avg       1.00      1.00      1.00     14000\n",
      "\n",
      "[[13270     0]\n",
      " [    0   730]]\n"
     ]
    }
   ],
   "source": [
    "model1_lr.fit(x_train,y_train)\n",
    "y1_pred_lr=model1_lr.predict(x_test)\n",
    "print(accuracy_score(y_test,y1_pred_lr))\n",
    "print(classification_report(y_test,y1_pred_lr))\n",
    "print(confusion_matrix(y_test,y1_pred_lr))"
   ]
  },
  {
   "cell_type": "code",
   "execution_count": 43,
   "id": "f91dfdf3",
   "metadata": {
    "execution": {
     "iopub.execute_input": "2024-03-17T05:44:54.621759Z",
     "iopub.status.busy": "2024-03-17T05:44:54.620840Z",
     "iopub.status.idle": "2024-03-17T05:44:55.885238Z",
     "shell.execute_reply": "2024-03-17T05:44:55.884058Z"
    },
    "papermill": {
     "duration": 1.292689,
     "end_time": "2024-03-17T05:44:55.887166",
     "exception": false,
     "start_time": "2024-03-17T05:44:54.594477",
     "status": "completed"
    },
    "tags": []
   },
   "outputs": [
    {
     "name": "stdout",
     "output_type": "stream",
     "text": [
      "1.0\n",
      "              precision    recall  f1-score   support\n",
      "\n",
      "           0       1.00      1.00      1.00     13270\n",
      "           1       1.00      1.00      1.00       730\n",
      "\n",
      "    accuracy                           1.00     14000\n",
      "   macro avg       1.00      1.00      1.00     14000\n",
      "weighted avg       1.00      1.00      1.00     14000\n",
      "\n",
      "[[13270     0]\n",
      " [    0   730]]\n"
     ]
    }
   ],
   "source": [
    "model2_svm.fit(x_train,y_train)\n",
    "y2_pred_svm = model2_svm.predict(x_test)\n",
    "print(accuracy_score(y_test,y2_pred_svm))\n",
    "print(classification_report(y_test,y2_pred_svm))\n",
    "print(confusion_matrix(y_test,y2_pred_svm))"
   ]
  },
  {
   "cell_type": "code",
   "execution_count": 44,
   "id": "03e57a9e",
   "metadata": {
    "execution": {
     "iopub.execute_input": "2024-03-17T05:44:55.924697Z",
     "iopub.status.busy": "2024-03-17T05:44:55.924394Z",
     "iopub.status.idle": "2024-03-17T05:44:55.974204Z",
     "shell.execute_reply": "2024-03-17T05:44:55.973216Z"
    },
    "papermill": {
     "duration": 0.070151,
     "end_time": "2024-03-17T05:44:55.975992",
     "exception": false,
     "start_time": "2024-03-17T05:44:55.905841",
     "status": "completed"
    },
    "tags": []
   },
   "outputs": [
    {
     "name": "stdout",
     "output_type": "stream",
     "text": [
      "1.0\n",
      "              precision    recall  f1-score   support\n",
      "\n",
      "           0       1.00      1.00      1.00     13270\n",
      "           1       1.00      1.00      1.00       730\n",
      "\n",
      "    accuracy                           1.00     14000\n",
      "   macro avg       1.00      1.00      1.00     14000\n",
      "weighted avg       1.00      1.00      1.00     14000\n",
      "\n",
      "[[13270     0]\n",
      " [    0   730]]\n"
     ]
    }
   ],
   "source": [
    "model3_dt.fit(x_train,y_train)\n",
    "y3_pred_dt = model3_dt.predict(x_test)\n",
    "print(accuracy_score(y_test,y3_pred_dt))\n",
    "print(classification_report(y_test,y3_pred_dt))\n",
    "print(confusion_matrix(y_test,y3_pred_dt))"
   ]
  },
  {
   "cell_type": "code",
   "execution_count": 45,
   "id": "df200f96",
   "metadata": {
    "execution": {
     "iopub.execute_input": "2024-03-17T05:44:56.013952Z",
     "iopub.status.busy": "2024-03-17T05:44:56.012969Z",
     "iopub.status.idle": "2024-03-17T05:45:07.112803Z",
     "shell.execute_reply": "2024-03-17T05:45:07.111604Z"
    },
    "papermill": {
     "duration": 11.120725,
     "end_time": "2024-03-17T05:45:07.114887",
     "exception": false,
     "start_time": "2024-03-17T05:44:55.994162",
     "status": "completed"
    },
    "tags": []
   },
   "outputs": [
    {
     "name": "stdout",
     "output_type": "stream",
     "text": [
      "1.0\n",
      "              precision    recall  f1-score   support\n",
      "\n",
      "           0       1.00      1.00      1.00     13270\n",
      "           1       1.00      1.00      1.00       730\n",
      "\n",
      "    accuracy                           1.00     14000\n",
      "   macro avg       1.00      1.00      1.00     14000\n",
      "weighted avg       1.00      1.00      1.00     14000\n",
      "\n",
      "[[13270     0]\n",
      " [    0   730]]\n"
     ]
    }
   ],
   "source": [
    "model4_rf.fit(x_train,y_train)\n",
    "y4_pred_rf = model4_rf.predict(x_test)\n",
    "print(accuracy_score(y_test,y4_pred_rf))\n",
    "print(classification_report(y_test,y4_pred_rf))\n",
    "print(confusion_matrix(y_test,y4_pred_rf))"
   ]
  },
  {
   "cell_type": "code",
   "execution_count": 46,
   "id": "ed1d2ded",
   "metadata": {
    "execution": {
     "iopub.execute_input": "2024-03-17T05:45:07.151892Z",
     "iopub.status.busy": "2024-03-17T05:45:07.151592Z",
     "iopub.status.idle": "2024-03-17T05:45:09.346702Z",
     "shell.execute_reply": "2024-03-17T05:45:09.345608Z"
    },
    "papermill": {
     "duration": 2.215446,
     "end_time": "2024-03-17T05:45:09.348575",
     "exception": false,
     "start_time": "2024-03-17T05:45:07.133129",
     "status": "completed"
    },
    "tags": []
   },
   "outputs": [
    {
     "name": "stdout",
     "output_type": "stream",
     "text": [
      "1.0\n",
      "              precision    recall  f1-score   support\n",
      "\n",
      "           0       1.00      1.00      1.00     13270\n",
      "           1       1.00      1.00      1.00       730\n",
      "\n",
      "    accuracy                           1.00     14000\n",
      "   macro avg       1.00      1.00      1.00     14000\n",
      "weighted avg       1.00      1.00      1.00     14000\n",
      "\n",
      "[[13270     0]\n",
      " [    0   730]]\n"
     ]
    }
   ],
   "source": [
    "model5_gb.fit(x_train,y_train)\n",
    "y5_pred_gb = model5_gb.predict(x_test)\n",
    "print(accuracy_score(y_test,y5_pred_gb))\n",
    "print(classification_report(y_test,y5_pred_gb))\n",
    "print(confusion_matrix(y_test,y5_pred_gb))"
   ]
  },
  {
   "cell_type": "code",
   "execution_count": 47,
   "id": "25c06ec0",
   "metadata": {
    "execution": {
     "iopub.execute_input": "2024-03-17T05:45:09.385930Z",
     "iopub.status.busy": "2024-03-17T05:45:09.385639Z",
     "iopub.status.idle": "2024-03-17T05:45:12.979983Z",
     "shell.execute_reply": "2024-03-17T05:45:12.979016Z"
    },
    "papermill": {
     "duration": 3.615651,
     "end_time": "2024-03-17T05:45:12.982499",
     "exception": false,
     "start_time": "2024-03-17T05:45:09.366848",
     "status": "completed"
    },
    "tags": []
   },
   "outputs": [
    {
     "name": "stdout",
     "output_type": "stream",
     "text": [
      "0.9897142857142858\n",
      "              precision    recall  f1-score   support\n",
      "\n",
      "           0       0.99      1.00      0.99     13270\n",
      "           1       1.00      0.80      0.89       730\n",
      "\n",
      "    accuracy                           0.99     14000\n",
      "   macro avg       0.99      0.90      0.94     14000\n",
      "weighted avg       0.99      0.99      0.99     14000\n",
      "\n",
      "[[13270     0]\n",
      " [  144   586]]\n"
     ]
    }
   ],
   "source": [
    "model6_knn.fit(x_train,y_train)\n",
    "y6_pred_knn = model6_knn.predict(x_test)\n",
    "print(accuracy_score(y_test,y6_pred_knn))\n",
    "print(classification_report(y_test,y6_pred_knn))\n",
    "print(confusion_matrix(y_test,y6_pred_knn))"
   ]
  },
  {
   "cell_type": "code",
   "execution_count": 48,
   "id": "2feebea0",
   "metadata": {
    "execution": {
     "iopub.execute_input": "2024-03-17T05:45:13.020390Z",
     "iopub.status.busy": "2024-03-17T05:45:13.020037Z",
     "iopub.status.idle": "2024-03-17T05:45:31.686800Z",
     "shell.execute_reply": "2024-03-17T05:45:31.685560Z"
    },
    "papermill": {
     "duration": 18.68774,
     "end_time": "2024-03-17T05:45:31.688545",
     "exception": false,
     "start_time": "2024-03-17T05:45:13.000805",
     "status": "completed"
    },
    "tags": []
   },
   "outputs": [
    {
     "name": "stdout",
     "output_type": "stream",
     "text": [
      "1.0\n",
      "              precision    recall  f1-score   support\n",
      "\n",
      "           0       1.00      1.00      1.00     13270\n",
      "           1       1.00      1.00      1.00       730\n",
      "\n",
      "    accuracy                           1.00     14000\n",
      "   macro avg       1.00      1.00      1.00     14000\n",
      "weighted avg       1.00      1.00      1.00     14000\n",
      "\n",
      "[[13270     0]\n",
      " [    0   730]]\n"
     ]
    }
   ],
   "source": [
    "model=VotingClassifier(estimators=[T1,T2,T3,T4,T5,T6],voting=\"hard\")\n",
    "model.fit(x_train,y_train)\n",
    "y_predict_vc = model.predict(x_test)\n",
    "print(accuracy_score(y_test,y_predict_vc))\n",
    "print(classification_report(y_test,y_predict_vc))\n",
    "print(confusion_matrix(y_test,y_predict_vc))"
   ]
  }
 ],
 "metadata": {
  "kaggle": {
   "accelerator": "none",
   "dataSources": [
    {
     "datasetId": 107706,
     "sourceId": 256873,
     "sourceType": "datasetVersion"
    }
   ],
   "dockerImageVersionId": 30626,
   "isGpuEnabled": false,
   "isInternetEnabled": true,
   "language": "python",
   "sourceType": "notebook"
  },
  "kernelspec": {
   "display_name": "Python 3",
   "language": "python",
   "name": "python3"
  },
  "language_info": {
   "codemirror_mode": {
    "name": "ipython",
    "version": 3
   },
   "file_extension": ".py",
   "mimetype": "text/x-python",
   "name": "python",
   "nbconvert_exporter": "python",
   "pygments_lexer": "ipython3",
   "version": "3.10.12"
  },
  "papermill": {
   "default_parameters": {},
   "duration": 180.844141,
   "end_time": "2024-03-17T05:45:32.427090",
   "environment_variables": {},
   "exception": null,
   "input_path": "__notebook__.ipynb",
   "output_path": "__notebook__.ipynb",
   "parameters": {},
   "start_time": "2024-03-17T05:42:31.582949",
   "version": "2.4.0"
  }
 },
 "nbformat": 4,
 "nbformat_minor": 5
}
